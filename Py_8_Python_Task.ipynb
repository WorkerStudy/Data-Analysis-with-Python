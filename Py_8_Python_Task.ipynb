{
  "nbformat": 4,
  "nbformat_minor": 0,
  "metadata": {
    "colab": {
      "provenance": [],
      "include_colab_link": true
    },
    "kernelspec": {
      "name": "python3",
      "display_name": "Python 3"
    },
    "language_info": {
      "name": "python"
    }
  },
  "cells": [
    {
      "cell_type": "markdown",
      "metadata": {
        "id": "view-in-github",
        "colab_type": "text"
      },
      "source": [
        "<a href=\"https://colab.research.google.com/github/WorkerStudy/Data-Analysis-with-Python/blob/main/Py_8_Python_Task.ipynb\" target=\"_parent\"><img src=\"https://colab.research.google.com/assets/colab-badge.svg\" alt=\"Open In Colab\"/></a>"
      ]
    },
    {
      "cell_type": "markdown",
      "source": [
        "## Задача 1\n",
        "\n",
        "В рассказе Артура Конан Дойля «Глория Скотт» юный Шерлок Холмс сумел прочитать шифрованное письмо, текст которого в переводе Г. Любимова приведён в примере: в письме нужно читать только каждое третье слово (как будто непонятно, что может означать слово «берегитесь»!). Напишите программу, которая вычленяет из введённой строки каждое третье слово. Знаки препинания считать частью слова, даже если это приводит к неверной пунктуации (как, например, в примере, где не должны стоять запятые после подлежащего «дело» и после подлежащего «Хадсон»).\n",
        "\n",
        "**Формат ввода**\n",
        "\n",
        "Одна строка, состоящая из нескольких слов.\n",
        "\n",
        "**Формат вывода**\n",
        "\n",
        "Одна строка, включающая каждое третье слово из введённой строки; слова разделены пробелами.\n",
        "\n",
        "**Пример**\n",
        "\n",
        "**Ввод**\n",
        "\n",
        "С дичью дело, мы полагаем, закончено. Глава предприятия  Хадсон,  по сведениям, рассказал о мухобойках всё. Фазаньих курочек берегитесь.\n",
        "\n",
        "**Вывод**\n",
        "\n",
        "дело, закончено. Хадсон, рассказал всё. берегитесь.\n"
      ],
      "metadata": {
        "id": "syt6dlbIyapd"
      }
    },
    {
      "cell_type": "code",
      "source": [
        "lineStr = input()\n",
        "\n",
        "formattedLineStr= lineStr.split()\n",
        "\n",
        "for index in range(2, len(formattedLineStr),3):\n",
        "    print(formattedLineStr[index],end=\" \")"
      ],
      "metadata": {
        "id": "Mxy9AgUYyaND",
        "outputId": "432c84cb-59f3-4018-a9ce-eaf17e7cba5e",
        "colab": {
          "base_uri": "https://localhost:8080/"
        }
      },
      "execution_count": 7,
      "outputs": [
        {
          "output_type": "stream",
          "name": "stdout",
          "text": [
            "С дичью дело, мы полагаем, закончено. Глава предприятия Хадсон, по сведениям, рассказал о мухобойках всё. Фазаньих курочек берегитесь.\n",
            "['С', 'дичью', 'дело,', 'мы', 'полагаем,', 'закончено.', 'Глава', 'предприятия', 'Хадсон,', 'по', 'сведениям,', 'рассказал', 'о', 'мухобойках', 'всё.', 'Фазаньих', 'курочек', 'берегитесь.']\n",
            "дело, закончено. Хадсон, рассказал всё. берегитесь. "
          ]
        }
      ]
    },
    {
      "cell_type": "markdown",
      "source": [
        "## Задача 2\n",
        "\n",
        "Напишите программу для построения горизонтальных столбчатых диаграмм с помощью символа звёздочки. Подсказка: выводя строку, не используйте для этого цикл.\n",
        "\n",
        "**Формат ввода**\n",
        "\n",
        "Вводится несколько натуральных чисел, разделённых пробелами.\n",
        "\n",
        "**Формат вывода**\n",
        "\n",
        "Для каждого введённого числа выводится строка, состоящая из звёздочек *, длина которой равна этому числу.\n",
        "\n",
        "**Пример**\n",
        "\n",
        "**Ввод**\n",
        "\n",
        "3 7 1 10 8\n",
        "\n",
        "**Вывод**\n",
        "\n",
        "![image.png](data:image/png;base64,iVBORw0KGgoAAAANSUhEUgAAAMQAAADoCAYAAACwyEsmAAAAAXNSR0IArs4c6QAAAARnQU1BAACxjwv8YQUAAAAJcEhZcwAAFxEAABcRAcom8z8AAD0sSURBVHhe7d0FVBXbo8dxb18bQUBQECxAEMVALMDCQAW7W7G7vXZ3K3a31+5WRBRbUFQEpBEUpfNwvm+Ag84fMMC31vvf+/ZnLde9M3DmTOzfjhnW7AIIgvCJCIQgyIhACIKMCIQgyIhACIKMCIQgyIhACIKMCIQgyIhACIKMCIQgyIhACIKMCIQgyIhACIKMCIQgyIhACIKMCIQgyIhACIKMCIQgyIhACIKMCIQgyIhACIKMCIQgyIhACIKMCIQgyIhACIKMCIQgyIhACIKMCIQgyIhACIKMCIQgyIhACIKMCIQgyPx4IBK9ubpkEr0mr2fry1jVyrxKJfTGTKYPGcWyQ88IV63NGwWpIbfZN2EE3Zef5PrbVNV6Qfh+Px6ImGssrqnOT/ptGeUar1qZV0l4rtNHr4AGjcbdIFC1Nm9SSPLcTN8SP/OL3Tx2+ypU6wXh++UxECkkxkXg4/VOqtNVku+yoWklatcbgvNz1Trp9xLCPHgu1dLJuZXLuA98CHqFf7JqWfr9l7tsMVdrRI8FT/igWpsWE4H3kwBiUKrWyCXy4W0ovj4xqmUlKT77mVhBG+v+W7ma1cykvSci6AUv36uWBeEr8haIRD/cD06kld1w5u17xJuE9JV+nGhtTgvrkewKTl/+iN/VDUzv34xmUy7yKCIlfaVMEu9vbWd5V3u6LDjJLf/MVuXj+cHU0u1C39U+GcsJ/tfYOWkwbZs7sePFRxLTMlZ/ooy6zd75A3FsO4OttwIyQxR9mdUmpWk1eDd3EqXlxCDu7RnHkO4d6b7mORGi0RC+IW+B+PCcS8vbYFRGnV806tFl/hHcg55yzKEW/ZqNYMcTfx7vmkjHalIXqlgFjDo6cy0kTvXhLFH4XVrCcKMylCxWGvMuC9l/2xv/C1OpazsSpw1uBDw/xMJOZpQsUJQyli2ZfimU2GyFOc3vHM4ja2JYsgTFjDox+ZALT3wvssnUgL6jt3LR4ylXF3Wntt6fFNSqQ/PJp/HOnk1ByCZvgVAqSUsM5eWZxQxtVBFDnUrYDBtBL3MT+jRpSb8hvWmkWwp9s2b0XXIc18AkUnL0dpQo0+L54HmajSNaULNcOSpbd2f4kPZUbD8ch/79cGpWCW1dE2p3X8D+u8FEKnLpMinTUHzw4tZm6TNmZTA0tsJ+9Ah6l9Ghd8/+9OlkR00tXSrU78nUPW68/KjIteMlCHL5HFSnkhTli/uB6fSpo4vaz7/wx2+/8adeLdpMO8ytgBgSU79d/NKSogh9eIClvWpQpthv/PzHn/xWSB/z9tPZ6uJHZEIK2XpKOaUlERv0gDPL+9KsYhEK/fwzf/z+B8WrtGHYppu8iEwg+ZsbEYRM+QxEukRCXZwZZ6NJ0QIFKFDgJ4pXcmDiIc+83TZ9e43dY+yo8MdP0jak7WgY0WjCPtxCVT//Lm95sncinSr9zE8Z+/InZRuNYv3tcD6N2wXhO+QjEKm8v7+PpQNbY2VsRt0uHWlRvhztatahfZcOWJuaU7fVKJad9SIiSfWRXKS+e8KpJUPoULsq5Wq3pWPb+pRt7kj9ju3p3LgG5lbtGLzyHPdCv9LxT32P95nljGljjUWVGth260ALTU3aNXOgXevG1DatiV2/Rey7/1aKryB8Wx4H1a9w3dQb26ql+aOwOTZOSzn80IU99rUY0HQQay/d5tAURyxL/cSfhg1oMuYIdyOyF8UYAq5uYap1dQyLl0TfeiizDtzk/tEJ1K03kt4LzuJydh59LXUoWtiAGo792Xg7kvhs3Z40/6vsn9EMS0NNCpVqSLdFuzl7/zhrTAzoN3wN+86fZn2fmhgU/5NSVToxYJULfuJZnfANeQtErAdXVrelspkj/RZd4HHGvc7XHGllSkOb0exN7+Yk+eO+axS97CwwdzrK7bDsnZZ4Ak4sYUStylgPXseRp5EZa6PPdaJWCUf6rgySlhRE3N/N7C4tqVPTkVUPP5CQPRBvT7FmhC3mlv2ZcegxmXd8z7PYRBe7ofu5n946RdznxPx22Ns0pNnc+wSLQAjfkMcuUxxRb1/gcvONVM+rxLuwvHF5zOo4sd4zq3sTT+Sr67j4JBCfS48n9V0Avo+u8yRatULq6T/bWgWz4lZ0X+BBZkSkbL31w/2KBxHS0DrnEP09AS89ue0erhp4p5H8YgfDymtSq48zl8MyVkobkb7r2W3u5O/xt/D/zA8MqlVib7Cstha/6rVhlMtH1cq8kgKxoQIGBbRpNPYGAaq1eZNK0vOtDCz5G781mcluH9EcCHn344GIf8qxUV2o120Gi558ajfyKAX/U/3oLQ2Gxzo/yOz+5JmClDcXWNXRnjrjd3EqSDyFE/LuxwOR8aAtDYX0L+1Hnnwppc9nbOOHNqLaF+m/qjWCkBf/C4EQhH8PEQhBkBGBEAQZEQhBkBGBEAQZEQhBkBGBEAQZEQhBkBGBEAQZEQhBkBGBEAQZEQhBkBGBEAQZEQhBkBGBEAQZEQhBkBGBEAQZEQhBkBGBEAQZEQhBkBGBEAQZEQhBkBGBEAQZEQhBkBGBEASZHw9E6gcC7t3k7M3HPI3M7/QkacQF3sb18lXuvXxH9lnpvo+StNgQvG5c5fT91wTE5XPaoNRYIl5e5tqlO3iFxJOvF2IqE4kKeMzFK1dxfxNFYj4ne0yJ8pWO5xLXrr4hIr/TIKV+JPCZK+euu/E8PFm80fAbfjwQMS6ssTXgV6PODLv16XXeeZSM1yYzKhfSpfmk67xRrc2b9Jcd72SYfgl+sV/ADp98vts12pMzYwtRsqANYw/7ka/XN6cG4r62Pb8WL0nLdY8J+crEMV/z3n0Bw4wKo2WylsuR+TyeGHfWDTSjgG4Nxl6I+jydspCrPAYi/d2pqSQmyKq8BFdWNTTEqEZ/VjyR1WKp8Rmvws/1Va1pChQpibLprqRAbKtO5cLV6TTnAe9Ua1EqSIxL+sI8c0pSU1JISsz6AgVJr3Yx0kAd8+4bOB+iWi2tVyQnkPClkpCaTEpK8ueCEiMFYpIGWoW7MlfaSNZ0L8rkZOm4U75Qw0r7kZTKp2n1FMG4r+9KcQ1tBux9zbus06WQjjk56YutTlpSAimyCSYj3ZYyvIE6pbvu42FM1vo06ZiTSU7J7axIv6NMJkE+h3HcQ9Y7WfCngRVL7qR+PpfJcSSlSOdGtShkylsglO8JeHyClQuOcscvTlWIPNjTwpRG1sPZ+jpjBSlvH3Fj7xzmH/cjJDZ7EVKS9Po217YtY6NbONEZV0RJwJEuWGi2o9eS55ldJkUEzy8cZuWsHdyLTspZsynecOfMPtasvsyrmMzLqgw5ybxKOjQbtIObGZO5pBHjdYLD25az+lo0ydl3Rfp5tNshDu3cxv5niZnfkeTHtXkNKK0+hhU3M2d7V6b4cXXrVtauO8XrXEqQIuwcu7ccYM+FANUEj+/x2jGAujr6TD0ZTEa7qYjD++hyNm8/xPnQXAqzIoYHO1ex8+/LPPmQ+fOEJ+uY2rEUhiNO8CIjmQpSfM+zZul2Dl/xIcfkrMp4El4dYMXa01x5Gpl5PAovjoysR3VjGzY/y/gt0hICub91OmuO3+NRVI6T8v9a3gIR+ZiTsxpQolgZyjaajLNbiFS3B3KxbXU6NhzJ3iCpwvU7z7pB9dDT0qJk0xWcD8w5T7XP8b/ooaVGSRN7nJxv4x+XSvyNSdQ160t/Z2+pmAZyx3kgjUuXQtOgJmPPBaMq858o/I6ysEcF1EsYU7ufM+eD4kiOuckWM306DtvFHSlpUXe3Ms7eEO2SxtQYfJyXOarmAFzntcdasySl6g9i/jl/4pNC8NjSEwPjv1h3N1Iqle4cmWKPacn06b96st4j+0aU+Pw9gJam2miVa83IrfcJIQH/Y3/RpYwFc86/JTohGJe1/WhqoIaGWTcGnQjMVjNLAQg6xSxrY7RLlcF2yMaMCV9S3uxg0dDSlJ90kZfx8by9vYHJNpUooaZPy8kneZoxcf5nysQwXJfZULmMLmWsBrPkYpB0fcK5Nq09rSu3ZZdUYSWG3WXP+EZU0SqCetM5rH8cpfq0kC5vgUj6SMjjI6wdZ4+ZemE0KzTGadMW5tnUYGSbPsxzXsWo2vqoF9Gigv1Y5h3xJDg+e92eTEzIQ66uGEvX6jqU0DSj0cCl7Fg9HItu0+g7ZznOExpTUa0ghco2Y9DyQ7gESYPbbBWZMiaIF9c2MKtbDXQLqlGhYS8m7VzHzIplGTF6Hkvnj6NLJXUKlqhA/X7L2OkSQFSOijmWcK/LHJrWnYZSYS1Rvgm9pqzEedEA9DsuYt7q2czsZo7Or0XQqdOHmQdceB6Zs3aPDnDnnPMoOlTVpLhmNezHzZda0RkM0O/CEud1zBjYGJPiP1HcqCUDV17kTmBstq6XtBQXiOe5TfzVwQTdYmqUbTmVmYsnM3FCBcpN3sjOed1oaV6c34uZYT1gMUfcg4nMfmqlLtnbZ2fYOasT9fSLo1bOjoFLV7Fo4EiczAeyevcqhjczRueXPyltO4Bp+x7g/UHM0yqXv0H1x5fcPbaGWQNa07RRDYxLlMBUX4+KFrWxajqAqc6ncH31Tqonv+YD/ndPsn3uYLo0qUU1MwOKGVXD0Kgqta3t6TZ5HQduvCDsG9OHJgTc5fzmWYzu0pj6dcwwKlyYysaVqFitHk06T2TZoRs8CY3/3HfOTXwgHpd2sGxMV1rVq4JR5XIUqmSBiWk16jbrxvAFe7jwSGqlvta7UETid+c4W2Y40alJDUzLV6Z8oUpYmJljUd+BXpPWc9BFOp6vDrDTiPNz4+zmmQzr3JJ61cpT3qQYhU2qYlalOk36TGPJEVeehn6jEMf68/TiDpaM6ESL+uZULFMZoxIVsaheA8smPRiz8CAXn4YQJ3pLOeQvEFle7mWKVWF+zpgbWvpXqjGjTwVnq/2+5RmnJ9ZHK2sbP+lSa8xRvHLpq39N6NlpdCyt2ob0r2jtoTg/y+MVf3uSZY5lP22jgFptum54nDkG+F5pnhwaXpPSWdsoUB7biad4ofrx9wo5NoyWBlnbKMAfNpPZ9lz1w+8VdIy5TXX4M2tfiljTf5un1C4KX5K/QEQ+5/bfa5nRrx32zWphqq6OuZ4hlrYOtO8xmjkbz+D25lunPQrf23+zfcYAHJs3p755OdRMzTCs2wD7Dr0ZNnMbx+76f75D8wUJUo16ZuNsRnZuLg3sq2AstRBVpdq9ftO2dB88g9WHb+GVSzfnP0gtxOMzG1k0sht2NrbUMtWnkIlUszdqhEPXYUxdcZQrXpF8tXJXvMPv9gHWTu5P14Z1sKlqStnCxpjXa0HTtn0YOX8bJ6Xj+foYVkGMzy3Orp3C8K6tsLGqSEVTqYWoWpNGLR3pPGImq4/dwevDN4Ie48OT8+uZNbgT7RrWoKahKeXVzKnRuA2tugxhhvNxbr5QDbqF/5C3QCS8J8B9P8tGNJcGmbqUMpH6+M6bmGtdQ+qbdmPG6mUMstJDo4gmZp2msfzoM4JyjCGSiPK7z9klY6U+d2k0tKpRZ8ASNq8YSA3H0XSdvIyVY5pgol4crWqdGLn6IPcDEnKOIT764Xl+JX91qkXpInpUaiqNIbatYXqFsgwbPJ25c8fSrmIxipSsjN2w9Ry49QbVzRuZGEIeXmTn5O5Y62tIY4jmtJ+8nHULeqDfYjpTF81lamdzdItqU77ZMBYcvMHLzBtP/+Gj71XOrBpEx2olUde0oM3g+SyfP5nuZeyZtXwVMwc2xESjBLrVuzB6/QVuB2Sfi086uGg/Hpxcw/i2xpQvro5RqylMXzieCWMMMBgrjatmdsXerCi/atWixciVnLgXxPscY4h4Qp/uZ/sUB+qXK46GNIYYNGcFc50G0qNyVxZtXMbIltIYopgupi1HMPvIPbzf5/Mhyb9U3gLx/gEnp9WgWDEDKjSfxfb7EVKd5s9Zx2q0shnFngDpmvicZd3AapTT0aZkqw1cCMo+koji1b4pdNQoilaVtozYcY+QZKnvfG04dXV70GelnxSZQG5vGEiTslLoDC2Zcimc2GyFOc1nP/O76FNc3ZwGQ7Zz5W0iiuhrbDDVo/XQPbhFSd/ktoEJLfUorWVK9VHncr3LdG1CW6xKlkSv8UiWXQkhOTWYpxvaYlByCitdo0mNdefQ1NaYaWlRzqYPW3PptvgebEezytpoGXVkwu4nhJOM39HxtCpTltlnw4hL9OPmmgE0K6uOZrVuDDudfY5g6eD8TzKxbiU0dQ2wG72Dm+/S79jtYH5/HcqPPYN3QjTvb29gdGNjSpaogOPks3jluMsUzO1FphiVLkNZ69Gsvh4mXZ8ILk5tRuPKjdj9ClJCb7JnbDMstIui0WIOm5+Iu0xyeQuE8i3+Dw6zZPEpHgQlZY4Vku+wtkkFajYYxhbphKdTvPPA7fBilp4JJCzH32EoiXtxSxoIL2T7gw+qgbcC7101MS9uS68lLzL7uMpIvK+dYP2CfTyOTc52m1KS9hLXU7tZsd4FP9XDOYXPXsZU0KKB03ZuZkx2rSTe+ywn9qzF2SUuRyuT/vOIG/vYt20LR1+nZh5PvBfn/yqFbvEhLLsemTkYTwvEZfduNm8+z5tcel9pgcfZvu0Au66HqvbzLfc39kRDpwzjjkuD8fRVykTenF7Lzr3HpPDm2BFpIx9x3bKSXUev46U6Z1HuKxjZVBuDoUd5nnFzQYki8Aob1+zjxI03OW8UpMWR6LmTxc7nuOoVnXk8iU9xHlILNWNrNnlk/JZ0zUJ5unsem848xOOrdwr+/8njGCLzSXVSkuxSxLmwwtaA0mbdmOsuGzcoEkmSSseXn1TLH7Yl83yLGSaFTXCY5k6oaq30iyQnfunpcBqK1FSSP91wkfbrxQ6GllWjbLslHA/I2kclaalJGfuSK0UyKakpnwMX7cHpCUXQLOjItJNBn/+uKv27klShyU4p/SxF8fl4FMHcWdeFP0po0V0aCUdk/SAtOePpevaeThZFsnROZKf2/Z0lDKtZBO1mG7mR+QRToiQlOZVURS7JTN87ZQqJ8ieQsQ9YI7XYBfQsmXMj7vNxpiaSIm0jt638f5a/QbVcjCvrG1fkd+PODHHJeDycD8m82FJdaiH0aDH5Gn6qtXkjFUqv3Ywsp8kvreax/XU+769HP+fcBDVKFbVl3KH8/y3TvfWdKKRRCvt1jwj5xq3jL4m8t4iRJsXQMVrDxfdf+oOPb4hxx3lQZiDGnv/wxTAKmX48EIooQp64c839OS8+5vOiSfVUfOgD7t+6zVPfrG5UXkmtV/xbXt+9zVUPf0IS8ln3pcYT6eOK261HvA6XBvOq1XmiTCIm+Bkurm48CY5B3qDmRWpMgHQ8t3BzCyIyZ3/v+yiiCXl1n+t3HkoD6C+1tkKWHw+EIPyLiEAIgowIhCDIiEAIgowIhCDIiEAIgowIhCDIiEAIgowIhCDIiEAIgowIhCDIiEAIgowIhCDIiEAIgowIhCDIiEAIgowIhCDIiEAIgowIhCDIiEAIgowIhCDIiEAIgowIhCDIiEAIgowIhCDI/C8EIg1FSjKJySmkpIn3wgn/bD8eiLjHHB7iSI12k5n7KL/zVAvCf4cfD0TsdZbU1qJohc5MvSsm3xD+2fIYiERi3r3G7ZoP0Vm9o9R7bLIzol79oWzyUq0jmojnl7j6Kp44Mcml8A+St0DEenF1XVeqmLSkx+zT3MuYXiqIc+kzCFmPZG+YtJgawN1d4+ncsAqmvfZxK7/vgheE/wN5C0SUL3d2DsauZhl+/8MAq17z2f/AhT32lgxpJbUQ1+9wbEpbaukU5GddKxqOOIh7RP5ebi8I/xfyMYZI5uPjgyxzakJdExOsunSiRXlDHOvUo1V7eyzLmmAphWP+IXd8c0ynJQj/3X5gUJ1KmMsahtcu8XkeZG0rum+4S/YpBQXhnyJ/gVAmERfpzd398xjcqCxav/1Kod8LUaZqW0atP8+DwChyzMYrCP8AeQuEUkFqbAiexxdIQaiOga4xNkOG0aOKCX2s7eg/pA8NDXUxMGvFEOcreISkTyIoHtYJ/xx5C8T7p1xY2ITyOur8rtOM3stP8TDkKcfa1KRH42FsfhDAw50T6GT+J79rVMK461auhopBtfDPkbdAJErdpH2jaNFyHEv+9iQo447qM3a3MKa+zSh2B0mLyg+8ub6eeUNa0Wr2DZ6+E30n4Z8jj2OIJBJjwvB+JZveNd6FFY3LY2zZn1VPsp5Up5EU8RLviFRSvjQ/tCD8F8rfoFou5jpLa5WkgI49g67nd55qQfjv8OOBSPTh5uqZDJ61ld3e8aqVgvDP9OOBEIR/EREIQZARgRAEGREIQZARgRAEGREIQZARgRAEGREIQZARgRAEGREIQZARgRAEGREIQZARgRAEGREIQZARgRAEGREIQZARgRAEGREIQZARgRAEGREIQZARgRAEGREIQZARgRAEGREIQZARgRAEmR8PRKIvLmtmM2T2NvZ453fKoFTeui5iwfgprDv+ggjV2rxJQxF2jyMzJzFo/TluhefzJcuJYTw/Np4p45Zz5EEE+TqitA8E3NzKmIlTWHs9gI8pqvV5FBdwkSOzxjFl6jWex+bzJbmJb7h1YAFDpy3h8LM48rcVBe8ebGfdyL9YuM6T9KkE8yXyIXtXTmL4kr3cDFaty7OP+J5byOxBy9h2Oih/1+crfjwQ0ddYXFOdAnqOjLiV391LwnOdPnoF1Gk47joBqrV5k0KS52b6lviZn5rOZZdvPgMR9YTjwwrwe4G6jDrkR5RqdZ6kBnB7eUsK/PwHdmueEJLP2Yrfuc6in0EBCpqu4WpkPo8n2o1lPQwpUMyE0RdiPr+kOk8UvNxmT60/1KjY+RxvVGvz7M1+2pr/SgGzrmx+rlqXZ8Fcm2iIeoHqOC72/L8ORCrJCZEE+Hz8XNMk32F900rUqjsE52eqddJPk9694vU7Re5v/06IJvrtG4I/1ZwpvNxljbmaLd0XPCHrlcnKuA/4e4WQ+xtjk4h6F0FgQNYpUZLss58JFbSp328LV95mrf5IZJgvvh9Vy9lFhRIeHsY71SKxzzn3Vzl0iw9ksbSRrFmF40PDCPCL+LT8H9LeERz8noisXUkL4cHGnuiXKs2ow2+IzJoz5sMbQkNCef+FUhkX4kf4xwSprcv08e4KxjTXxsDpMB6xqpXESPsRxtv3uc27IX0y+S2+AbEkZn1n/CO2DLGkVKX6rH2QJp2lTIrQFwS+iyEm68tk0hQKogJ9eCcLst/+7tjVNaX+Qnc+Tc+fFon363BiE3JrApNIiQ3DJ0h2xkJOMcSmFBXshnMmRLVOKisJAV4ESTuS27lNjY8hMvCN1C5kieTO/BpUquvAkCP+qnXSVmLf8sonEoUylwPKg7wFIsmfh8dm0slxEiuPPyc444T5cKy1Oc2tR7AzfX4I6YIF3d7B4hGOOM6+jkeO+SGS+XBnL+sGdKTf6ss8CM2ctjfyrBM1dTrTZ9XrjAKRFOrGoTnj6OY4iv2vo0jKNhGRMsadw8tG0a37Ig7cD5W+VfLxEiuNS2M/eBdu6SmSCsfTv6czbmBP+m/yJjJHOGPxPziLqYOcGL33CX4ZVzqUu1Ltrqc1gdV30kuhtL/ep1k2aCB9hizlemTOEx79ZBWTh4xk+LyzPH+bflkTpMpwGM10yzHj7DupaEhrQh5x7K8u9B8+lzVP4j4VzEzSUuxrjozrzeDx89hzPyyz5vPezOwepSg3+iyv0782MRTvY/Po1XEwM7e5k6PRSP1IyKUp9Or9F/N2uiPlQhLAufG2NDBpwnbv9OVkIrxOs3FQC7rPOcIZeYHNkCLtyg3W9mrPsIV7uOITm1H5xV4eQHv7KtisfpGxrHj3hOvrxuHYZhI7XYKIz3Z9FDFe3NkxmLa9F7Pzug/vMy6qK0vtDGlsP4Hr6ddH8R7vi+uZ17MlPbY+lrqF2c9tPP6XdzCzaycmbb3J84yaRYnPVivMW7RnxLn0mCiJ8T7PjhmDcey6nOv+CflsBTPlLRCRnlxY1BzDUiX4TacJ/VadwyP8OScdatHHTgrEszBe/D2b3lba/FK0LIaO67gSnL1Ri8L3/HwGGWpTQs2QWv3WcPKRf8aFrNtgOE7O9wjzO82aPjXR/akIpao1ZsqFEGKyFWaF72nWDqlK6RLqaFTty5zT93kZeInNZmXpPWobV16+wm3tQGzLF6KgRk0ajzvJyxwVWQBuq/rTsnQJiujUkgJ8igevPHHfOgDDOnNYd+0ZAQ+cmdCoLEX/1KBSm2Fs8ci+EekCnZCCW1sbtSLlqee0kQu+vjw+NIc+erYsOuWF15OzrOxZhTKFi1Cy1mAmnA383MJmkApC0GmWONamjNqvlLHqy/yLb/B9uJlFY/Wp8Nc5Hnnf5/La3jTSLC4djxEd513gabZGQpkYzu21DtSrUIKCWlZ0mHcGj5AXnJvahy5m3dn1NAzPi2sZaa1F0SIa6LZZwg6P7J3CWCLvbmCQuQElCxalSsc5bH8Yhv+lQXQfUIuG6x8T5HOBbaMbUfmXIqjpNGTCYW9Csl2fpLD7HBhvjqGW9Dsm7Ri75x7+4W44t2pCD4c5XAgI4M72MThU+o3fSlag3PC/cQvPHs4QPPdNorleSUoUNqTJ+L2ce/Ge53vrU6t3D0ac9CbsyU5mt6mM9u8lKFu9H+vcY3+oG5W3QCilLlCMH4+PzKR3HX3KaBvTeMx4BliY0t+uDYNHO9GsjBY6FazpPGs/l1/HkpRjjjklipQo3t47zIr+tpjpGVK5UT/GjeqMUafRtBs8mBGtjNDSKod52+lsu+HL2+TPTf0nimQSwx9xaVU/7KRukr5xPdpOHsdA/dL06zuEQT3tqa2phV6N9ozedI0n0snOds0kaaQmhOF9fg3jW5phoFeFBm0HM3pkR3TaSYO/UV3paKWPlqY5TYY7c/b5O2JyqX4UyTEE3z/I0j51MZZaBYvWPRg8aCiddNszefIIOtkaU0azDDU6zWDbLWmQLR1PDmnJJIQ95OzSHjQy0ka7Wkc69+9J74EGlHGawl/da2BqIJ3bWt0Zs+UmL98lk5rj1KaREhfKs3MrGN3cBL3SVWjUdxBODv3pbtyVydMH0NSkFDrS8TQft4mzzyJJVOS8PsrUeN57nWPrqEZU0ddGx3oYQ51saTrQCotBE5jcxhBtnbKYSDX90pOevI1XfOrmZVGmpZL43osbW8fQuaYBuuXr0XHMCHrV7IZT4wGMG9+BWtpa6FZsTN+VZ7gXKNXsOcpKmnRuP+DnspWZHczQ19PHuNVkxjtVwnRgB9oMHoBTA020dM2w7r+S/XcCiU2R9l/16fzI36A6LYHoUE+ub5tIj7p6lPz1N4r8+SeFy9ak5fidXHwRTlRCzuL3n6Q+Y7TUx3TZzrxu1dFXL8ivhYtRsJgBVR0msPa8J0FSf/qbN2iSo3n36iaH5/ekqZEaxX75hSKFC1Oiij0DV57jYfBH4r69EeIjfXjw91yGNjageOFC/CztS2EtcxoNXsnhu294H5vyjROdRlJ0ON5XtzC9owV6BQtT6JfCFJOOp0a7qaw/70WgdDzfbM6T0o/nBgdmdcW2YlEKFv6VXwqroW7WiqHrr0rHE/Xt41EmE/fej3sHZ9OvviEl/ihC4d+kc6JTDbuh6zh6L5h33z4ppMa9J8D9MCsHN8Gs1O/8UeQPfitSCsOGTsw79hTfD3E5urI5pMbxMfARZ1cOpIWRFoV+K0LRPwqjbdSYnnOP4uL9nuhvb4SED4F4nl3FRMeq6Kn9Iu1HIf5UK0/NrrPZ6RpAeExuFV7e5S8QGZRS07qVidYaFFLNU124fGsmHX0pGwB9hyhXDoxrguFvqrmui1fEdsIhHrxX/fy7fMTr0GQ6lVdto8BvlGk4io3387QnpL7cz7y2phRVHc9PBjb0Xn+H4Lx0SiNc2TmkDka/qPalkAXNJ//No08j0e8RKXULhtLK+FfV8fyCtv00ttzPGCl9txiPvcxuIXV9MrbxEwVKt2TQprt5u20a58WVBS0x01Adzx+lqDpkB1czxovfKxm/M7PpW6UIv2fsS0HUqg9i8aWAb1d4Mkr/C2x1qoJGVlnRqk7rxdd4mTkM/V+Rr0DEeBxjvdTFaWhelbodHGhsUJbWFpa0ad8Om2qWNOks1YhXfYj6WmSjXnBJGpT1tq1FJas2ONpbUaaJPVZtHejQxArLhj0Zu1Hq6ny6/ZObGPyvOPNXFzusLGpi06E1TTRK0qZRS9q0bELd6ta0HbGGYx6RX62Z49+4sO+vHjS3tMS0gQOOrWqh3tCR1h2b07yeFQ0cxrDgmAfBXzvx7x5zZf0QOtWrgVWNhtL3t6SWug2OnTrTzLo2dZr1ZqJ0PC8+5tJd+uQdry+sZnqHutS2bIJNswY0aqGNRqv2dGtpRa061rQZv4njz2Rz/OUiwfsC+2Z1pLFFdawbNaV5nebUK92Udt3bYysdY8POE1l5woO3XyuNyd7c3jmFIU2rU61uG1rYmWAhdWUN2kj70sSCqjYODFh2CrfQr91TTuCt23aWDZWuj5Elzdu0wKZiE5pUaU27zi2pW7M+rYcu58AdaVCu+kSupLHHsYV96VzPXPre9jjY6VC2dV0sHdrQrkFVLFv0Z6o0RvH5kcGDSt4C8dGHuzuHYF/bgEKFjLHsNpMdt6+wo0UtnOwGsuqM9P8j7DDX+InCRna0mXJCqumzn7BYgm7uYk7zuhipq6Nr2ZtxWy/iengcdWxG02vecS4fnkInc00KFzOibtcR7HD/SEK2cpQW6MLRBW2xMS5FIY06OE5z5ojrEVaZGDBg+Ep2HT/Eko6m6BYthF6tXoxwdsM/RykK4/GuBQxpYIqOmi7Gbaaz6u8znF4vDaqtZrNgz3H+XtkD6zLFKaxfC4fxKznvq/qoTNCNhczsUl06HjXK1O7PvH3nObV1hjSobsCCnWc4tmUCHc00KK5uglWvxTjfyV5HS12G0FvsmtSNuhUKoqVTg/ZzT3Dy+FLmjten/MRdnD22irldTVErqEXZ2u2ZsesBvtlOrTL5PU8POzGgcTm0pOMxc5jOjnMX2TW+Dz1N2+N87jJ7ZnWgrk5R1Axq03jiXi75fLqfqyJ1hz2OsqBLQ8zUpZbWTBobSkG+ur8n3YbUosHCE7gcmEzf+rr89ochVRsPZ+O14My7SDIp7zy4vKoVLaqpU1yzMo0HreeU60mWtGxKv1bj2H/lJKsG1KFCMan7ZNGKNquu8uJDtoQqI/C5sFYKZVUMpC6ocdMRzDzgzhXn2tQa2IWBm09yZUMfaQypxk+aVbHrsZgTzxMz7urlV94CEf2US8vtKV+pOV1mnuReRu3ty9HWZjSWCvPeUGkx4TW3NjnRwdoU474HcQnNfucgjjfHFjDYvAK1ey9hz/2IjAFZzIWuWKq3kwZY6W1xCqGum5ns0IgaVe1Zdi+S+OyBCD0u9W3rYFytGxN23cM/vRsadYGlJro0G7qf++lnJew2h6a3pHHt+jSaeYfAHIGI4O6cnrSuXoMmk/ZzNSMxoTxc0QD9YhNYfTd938PxPDGX7nUtqdtqNEdyeWoYerYf7W3rYtVxCX8/+iAV7zT8Dg3HqnRpZlz4IC0lSpXANqa1MKdWs8FMuZH9Wby08+E3md9cutC2jkzad5+MHonvNmZ00aHcmHNk3HEPlY7nrw7UMLWl3/wrBGY7tcrkMDydbalZsxmtx+zlZmD6SQvn5ERrqla2YXd6mBVBPDo4iwF1y2Heew17X2avVhN5f28XA82Mqdd2FGuvSQNVaW38VSccm0tjqnWvpCUFUU8OsqhXY4wqdmDBcR+yN3wp4bc4MbkKhjU7MHTNNbzSm4C0+8xpVoY6UiDc0vf9gzS2WNgHhxpGVJt+kQfZ7yMrI3m6Zxr2FU1oPmg1J19kNtG+W+piZtee0ZfS+6FRvD67BKdWdTCtOZqDHnFSBy3/8thliuVjiAdXLnl/PgHxLixvXJ4qdZ3Y4Jl1QDFEPLvIlRdxxOWyd6nhfry6e5H7nyYtTeb5tiqYFa9D9wUenx7MJQS/4ta5h7xV5nKXSSrMvs8ecu1WiKr7IA3SX+xkWHlNavfd+PnBXLwvrx5f5+YXHq8m+Nzj4f27eGV1h2I8OD2pOLrF+7H4crjq5CoIefQIN5cXnx9KyUmfuX3XQxrwqvZSEYzb+u4UKVWG4Yf9Ph1PircLDx8+4VWuc9mn8sb1Co+8gjMKYLr3t5cx3EYT/X77eZRVbtMCcLv5GE+fXGZ8lQbThN/ngqsfQVm/H/uA1YNq8qdRA9Y++NyHjX54jjsvQwjNpduUkvCRl1cv4BGW9Om8e+/qRiMLE+rNc5NGOCoxL7l85RkhkbkckOIDMW/ucOZuhNTmqAQep1sDbUrZjeBseuWZThlFqNsZ7gYn5fqQMDbUD4+rV/H+tJF3uMysQfka9jhJ5zbz2qcQE/iEi9dfE5f6Y0PrHxhUq8TeYFkdbf4o68jYW/n6QwdJMs+cK2H4kw5Nxt/M559upJL0fCsDNf/gT7tZ7PXJVtt8r2gPTo76mcIFbBlz6E3uAfiW1EDcVjpS4PfCtFr7mK92s7/ivdt8nCoVoEi1lVzI3p34XrHurOptRAF1M8ZfiP7q2OPL0qRAOFKnqBqVup0m4/lefgQcolP1ghSo2p1tXqp1efaWG39VQvt3CxyXPsnfn9Z8xY8HIu4xhwc5UL3tJOY8zFfxkaRI3ahudGpgx7DV7pndhTxTkOJ3hiWtG1F15FaOBeazAMX54rrSmqb1+7PsYlD+AqEI4/mhidSxbcKwgy8Iz2cgop5vZ4ljfZq22o/bx3wGPM6Tv+d3plrznixxjc7nrclUgi5MZohVc7qOupXZfcuPsEvM6i91g3vO4shr1bo8C+fx5i44VO3DpE2v8nd9vuLHAyF1ZxTJSSQkJZOc48HK91MqkkhKTCQ5Jbfu0XdKf3CYlEhCcmrOh1bfSymNAFISSUxMIkWR34c80jZSk6VtSMeTmv/jSX+4lSJtIzExlXyf2vTrkyJdH9Xx5JdSIV3fBGnAmqT4seuTLF2fpBSk05JP6edWKisJST9WVr7gxwMhCP8iIhCCICMCIQgyIhCCICMCIQgyIhCCICMCIQgyIhCCICMCIQgyIhCCICMCIQgyIhCCICMCIQgyIhCCICMCIQgyIhCCICMCIQgyIhCCICMCIQgyIhCCICMCIQgyIhCCICMCIQgyIhCCICMCIQgyPx4IRTShHve5cc+LF/mdkBkl8WGPeHj7Dh5+Hz6/HDdPlCjjw/G5d4drnv6EZH9//vdSxBPpe5s7ro/xCf+OGYxyo0wiJsQLV7c7PA2OISmfu5IaG4iPuyt33IKITMnnO+oUMYR6P+Dm3Ue8jvzWLEhfkkZChBceLnd5+PT91+dy+If78UDEuLK+SSX+NO3GcNf8v+z4xRYLqqqVxX7q9XzOg5xKstduRpbX4g+HRez0yWc4o59xboIaOsUbM+GIX95mQ8qSGsi99Z0ppKlL6w35n6c68t5iRpmqUdpsPVekwpwvMfdwHmxBgbJWjL8Ylc+XHafis78rdtL1qdnpPD6qtf9GeQ6EMn1iv2RZPRN/i5U2Zalg0Zelj2VVYVoSyV96s660jTRFiuziJOO1tSomharSYfZ9Ps+eIH1XUuoXajVlxnzKqZ/KiYKklzsZXlaNyl3XcfbTPMjpv5f+3lnVYnZpqSik7Xz6cYwnp6VAlCzYiTnnQj63VtLvpHzxgKT9SJWOSbWU/jr8u+s6U6SEFn13e/Mu62NpKShSpe9TLWanlA5G/vrVSLclDKsrhbPTHu5HZ21dKR2zQtqdL9X1CpLl2Yl7wLqB1fhN35JFbimyfUwiVSHb52zS300r/9nr3Z2xrVwey6m3Ps/pLf1GsnROlMr8tTv/jfIWCOUHgp9fYNPKczyRqr3M0/CEXc0r07DBMLao3pOeFvmcu0eXsuJcEGE5pjlSkuJ3D9cD69n16COZ0zKk8eZQR6qVdKTXkmeq+RE+4nPzNBsXH+BJXC4T6ikDeXDpGFs338JfNbdDWvBx5lTSwW7QDm6oJjFI8LnAqf0b2OQaT85eh1IqLyc4eXg/x1+rviHRl6tz61G6xGiW33iXWSiUIdzet4+tWy/in0sJUkZc4fDeE/x9M0x1TiJ4tq0/tXX0mXIiWPXK9mQCzm1gz4ETXA3PpQClJfD04CYOn3XlhWqCiPjHa5nSvhSGI47jpUqmMvg6W9Yf4JSLf87CrEwg2e84zluv4PpSNR9d6nMOjahLVWMbNntmriI1HM99C9l6/jGeMTn3JelDEK7bVnP0rh/hqlor7HgvWjetgvWyR6pKIo5Iz1MsX3GCB77pk8T8O+QtEB+ecGq2NepqhhjZz2Hno/QCE8TFttVpbzuSfem1snTBto1uTIXS2mg2W8WFwOyJiML3+F/0LKWOdrUOjNr5gFCpxUm4MZG6Jn3o75zeIL/l0c6RtCqnh7ZBLcafD84xT3Wa31EW9qiERsmq2A7fxfUIqUaLu8kWUz06DN3FXelrEx7vY3p7I/S0Tagx5CSvcvQ6Ark9rwM2pUqh12QMK66FkqIIw3NzdwwqTmWdu1SUU59yZm4HqpfSxsC6Jxs8s29Eie/RAbQ000XXpBOT93lINWgygcem0rlMVeacjyAuNQL3bSNoU0kD7SrdGHwyKFthlpaCzzDbxgRdvfI0H7ubW1Kglf47WTREl/ITL+GdlMKHhzuY07wKmuqG2E85iUe2wZYyMQy35bZU1itLOdsxrL0ZLm05guvT2tKqsiO7pFOriHzMkRmtqFW6GCWbzWH9k+zd3Djeu66hh74WuhXq0X/NzYzzlnh7CF27SOd6w2uS+MDLYzPoZ6pPieJWjNjrRWguFcU/Ud4Ckfge/7s7WTikEeWLFkbbtBWjdu1iSaOajHLox6Ltm5hsUx7NwiXQazSYKbse4B+bvQAlEeXvxuk5g3CorEnxUtVpOWItBzaMokbXafRfsI6dM+wx0/iT30tZ03Pudi75xebo8ig/+vHk7BLGtzWj5B8amLQYxKwDm5hbyYCRYxexasU0+pppUrCYHjW6zGHDxddE5rho0YQ8PsWOMW2x0i2GulErBs12ZtsyJ8p2WMzCDYtZ1L8Wer/+iYZFJyZsu8jjiJxX/qPPDY4uG4C9UQmKlbKk/bQVbFg6i4H6XVi2ZSsLRraiaokCFDZoSPf5J7juG52tRpWWYny4f2QFo+0N0SqqQcV2c1m0ajpTJlWg3NSt7F/en3Y11fm9YEUsu81gl9RCZNXenygSCH54iA0TWkkBLkoJo9aMXOvMisGjcDJ3Yt3BjUxwMEfvl1/QtOrG6C23efYu+wAnhcTQx5xbPZ6uFmoU0ShPjcGb2bKiIx3HWlN/3k4OzmpJDb3CFNSwos3I9Vx88ZHYf0kTkb9B9bunXN8zn/Fd7WjYpDZVSpbEolw5KteywrJBN0YuPcAlj7Cvzyif9g7vG/tZM6kXjg1rU9OiIiWq1KZilRrUrd8Ex+EL2XL+CTkamP8gdXleX+foinEMdLChXoPqmBUtQjVzMypXr4NN66HM2nYe94DYL/bbM6QXxuNrmeXUlmZ1LTCrZkRh0zpUrWZBnUZt6TvFmaNub3LMo/YfpFbg5bW9rBzbA4eGNaUuSjWMi5hiVaM61es0o+PwRWy9+JSgr95CUxD96iqHV4ylj0Nz6tUwxqSaGkWr1qJGVXOsO49i+s7L0vEkfr2LEuWNu3Q80/s50FQ6J5UNq1FFw5TaVrWoad2OgVLAjt/z59OwJFfRBLr/zcbp/XC0s6NOVV3KWpRBy6wmtWtaYuc0l7Wn7/Py47+ls5Qpf4FQUb7cw+Tahfk5Y+5h6Z92Q0Yez94d+Jb0QWxdNLO2UUCHmqOO8CyPt0NCz0yjg27WNqTa2HIw6z3ytie8PcFSR/1P2yhQ3JLO6x7m7U6TwoODw2qik7WNAobYjD/B8zyWm+Cjw2hhkLWNAvxWfyJbssYA3yvoGHOalFLNDS39K1yfvls8yNts12HcXWJHpUJZ+1KIsr22k+/Z0/7L5S8QUa95eH4HS0Z0w8HOAmM1NYx19KjewIHOTtNYufcaj4K/dbc6lqCH5zi8ZCRdWzenjok+xSpWQs+yLvZdBjNx6SEuPgn5eq0sSQp6xLW9y5napzVN6xlTvmAhTAzNqNO0I/3GL2X72Qf4RH2jNEp9by+pdl8/pR+tG1pjUVGXghWMMbNpRNs+E1iw+QK3faK+/kwi7YN0PFL3a95I+tjVoX7liugWLI+xZTOadhzClNUHufw45NOEirlLIz7wPtd3zGdyXwdsLctJY5kiFKwstQ72Hek9WTqeC4/x+dY8UnEBvLi5m2XjetO5kQUWepXQL2aCuY0DDn3Gs2TPRe75Rn2j4oon/NlVjq+cwJBOzbGqokkpo5KoVbOieYc+DFuwlRPufkR8ten958njGOKj1Oc+gfNER6mPWhqtCrb0WbWGGfWrM8yuC38tm0/v6jqoFytNzV7zcT73irCE7FV9MjGBT7m6bho9LA3QLGlG9Z5S87u4H9XbjqLzxAUsHmpNhRLqlK7dm0mbT+ERkphjiixldBCvrm9mfq96GErfV866M6M2LGdKeX2GOU1l5rSh2BsUoWgpC9pM2M6Je8FE5SgBsYR73uTQnAHYlddErWxD7EcvZMWcbujb/8XkedMY52iCtrR9E4cJrDxxB99cJv+MDrjNlU1j6FlbGw0NM5r3mc7C2RPpWqYV0xcvYbK0jxXVNShbpy9Td1znQUj2fqB0cLFBeF7awoyuVTMqmPJNxzJh9ijGjjag7JjFrJncjibGRfi9dH3aTt7Ihadh5Jh2ThpDhL84wYE5XWhipIa6vg19pi5kRv+BdDfpyvy18xnUpALaavpYtJvIstNPefMx+zSxKSRFvOD2njkMsimDvroe5l0Wsnh2K9oNr43l5GWsG1YX41LSua3cgaFLj3LPP4aEPLaA/63yFoj3Dzg5rQbFikonynYyG24HS0PkN5x1lAqd7Sh2+0s1ttcxlvU0oYymNiXt13M+R6c5ilf7ptBBvSgaRi0Z4OzKm7gUYq+NpG6ZnvRZ4UMCPlxb0ZMGutpoG1oy5WI4sdlqIsXr/czvokdxNWMs+27gbGAMSVHXcDbVo83Q3dyWRtDvrq9geONSaJc0pcbIs7zMUcUHcHVCW2qrq6NT34m5Z94QlxTEU+cOGGhNZeWtDyR9cGH3WKnLoFESQ5u+bH2m+qiMz4F2NDfRRKNca0ZsvkewdAS+RyfgUMaQOWeCiY55yaXFPbAtrYZG1W4MOx2o+mQWKan+J5hYrxIaWrrYDnbmUqh0Ln12sGCgDuXHnuZVzHtCr61gUL3ylCheHscpZ3me4y5TMK4LTTHSLYVu7cEsvhAgXZ9wLv7VgqaVG7HrpZL4gEtsGWJD5ZJFKNFiDptz3GWKJeLmStrpaqBZ2oKui87zRMpvrMtgOncwp+GaZySmvOH+9pHYGZaiaLEGjNvzkrB/SUuRt0CkheJ7dw9zZh/B1Tcu88Fayl3WNa1ILevhbM2YWVJJcuh9ru2exdxjfgTnuP2gJNbzGidXz5QC9ZbojBOp4PUeS8yLN6TXkpeZg/HUt3ieO8jyGdu5F52U8wmr4jk3/t7MguWXeRmTORFgmu8+xlbUwnrQDlwyavJUop8d4+CWZay8Gk1SjlosjbeXd7B9/Vr2P0/MfE6R8IKL03QpXXwoy29k3l9PS/bl8ubNrFl7kte5jG0UfofYuGEHm9ILYMbxRPBgUy80dcow/oSqm5Qaw6sjS9m47SDnQnLprCjec33dQjbtkwrgx8zSFX1vJaPstDEYdgyvjJtBqVJIzrJq8TYOXfb5j4d4GdJiiX+0iTkrj3H2SWTmOUvyZONQS0qYWH96DqGI8+fe5mmsPubOoxzdSSk0b19wYsFMdlzyJEj1jMf/QA+a1qmCzbJHmX+6ofhAiPsB5sw9wO2XkXkcN/73yuMYIv0JczLx8bLqIM6FFQ0N0TPvwfx7sq5AShzxUo2c60NMRQopSXFS7ZUlmedbq1C5iCltZ9yThnEqylQSYpO+cLLTnxxL+/KprZYKy4sdDDNQp1yHpZwIyPqUgtTkeOJzKcjplCnpM2vKApfxpLooWoXbMeNU8Ke/21FK35UYn5wRkByUySQkpvDpAb4imDvruvKnujY9t3sRkbVxqUuTLH3Xl/4sKTUhjmRZ3/D9naUMsyxGKftN3MysOSRpJCYkZ8zAmZP02bQkYhNlM4XGPmDNQAt+KlubeTfjP5/L5DipppfOjWpRLv3Jc0p83H/sp/eeLjQsV5bqoy/L5hFPlcpCMoofmH32v03+BtVyMS6stTXg5wodGHQzlw72d0nGa5M5lQvpYDfhKn6qtXmT/rdMOxmmr0aB5nPY9vqrQ+Avi37GmbGF0fizAaMP+pKvI0oNxH1te34rpkHzNQ8JVtWyeRXpvoBhlQpSssIqzr/P5/HEuLN+gBkFdKoz+tyHXAPwbam83teRhgW1qeJwmpeqtf9GPx6I1Ej871zj1PWHPM7vRZPqrdgAF25euMRdr4ivP7/4IqXUYwjm2dWLnHD3xj8un414qjTQ9rrApfOuPJMGv9mHnN9FmUDUmwecu3iJO35RSBV2vqREvebZtfNcvuxHxBf/GOsbUj/i73GTU1du4Rn+hRbum9KID3nI3TOXcbn79ht3yv7ZfjwQgvAvIgIhCDIiEIIgIwIhCDIiEIIgIwIhCDIiEIIgIwIhCDIiEIIgIwIhCDIiEIIgIwIhCDIiEIIgIwIhCDIiEIIgIwIhCDIiEIIgIwIhCDIiEIIgIwIhCDIiEIIgIwIhCDIiEIIgIwIhCDIiEILwCfwPDkhgvXuXB9IAAAAASUVORK5CYII=)"
      ],
      "metadata": {
        "id": "fojK_ghQn-OV"
      }
    },
    {
      "cell_type": "code",
      "source": [
        "inputNums = input()\n",
        "\n",
        "for num in inputNums.split():\n",
        "    print(\"*\"*int(num))"
      ],
      "metadata": {
        "id": "Nhf6Gb6uHmy3",
        "outputId": "b133a6be-b621-4a20-9b26-bcd8855d1532",
        "colab": {
          "base_uri": "https://localhost:8080/"
        }
      },
      "execution_count": 9,
      "outputs": [
        {
          "output_type": "stream",
          "name": "stdout",
          "text": [
            "3 7 1 10 8\n",
            "***\n",
            "*******\n",
            "*\n",
            "**********\n",
            "********\n"
          ]
        }
      ]
    },
    {
      "cell_type": "markdown",
      "source": [
        "## Задача 3\n",
        "\n",
        "Используя списочное выражение и метод **split**, составьте список из введённых чисел, записанных на одной строке без указания заранее их количества; затем выведите их квадраты также на одной строке.\n",
        "\n",
        "**Формат ввода**\n",
        "\n",
        "Несколько натуральных чисел на одной строке.\n",
        "\n",
        "**Формат вывода**\n",
        "\n",
        "Несколько чисел на одной строке.\n",
        "\n",
        "**Пример**\n",
        "\n",
        "**Ввод**\n",
        "\n",
        "7 1 6\n",
        "\n",
        "**Вывод**\n",
        "\n",
        "49 1 36\n",
        "\n",
        "**Примечания**\n",
        "\n",
        "В задаче обязательно использовать списочное выражение.\n"
      ],
      "metadata": {
        "id": "kOQM8McWjfal"
      }
    },
    {
      "cell_type": "code",
      "source": [
        "inputNums = input().split()\n",
        "outputNums= list()\n",
        "for num in inputNums:\n",
        "     outputNums.append( str(int(num)*int(num)))\n",
        "print(\" \".join(outputNums))"
      ],
      "metadata": {
        "id": "HvERsQVoM2M-",
        "outputId": "56b0d530-c296-45eb-c79d-5c89a71ac9c2",
        "colab": {
          "base_uri": "https://localhost:8080/"
        }
      },
      "execution_count": 13,
      "outputs": [
        {
          "output_type": "stream",
          "name": "stdout",
          "text": [
            "7 1 6\n",
            "49 1 36\n"
          ]
        }
      ]
    },
    {
      "cell_type": "markdown",
      "source": [
        "## Задача 4\n",
        "\n",
        "Напишите программу, которая выводит слова введённой строки (части, разделённые символами пустого пространства) в столбик. Нужно обойтись без явного использования циклов и списочных выражений, в программе должен быть всего один вызов print.\n",
        "\n",
        "**Формат ввода**\n",
        "\n",
        "Одна строка.\n",
        "\n",
        "**Формат вывода**\n",
        "\n",
        "Слова, каждое на отдельной строке.\n",
        "\n",
        "**Пример**\n",
        "\n",
        "**Ввод**\n",
        "\n",
        "И волны клянутся всеводному Цику  оружие бурь до победы не класть.\n",
        "\n",
        "**Вывод**\n",
        "\n",
        "И\n",
        "\n",
        "волны\n",
        "\n",
        "клянутся\n",
        "\n",
        "всеводному\n",
        "\n",
        "Цику\n",
        "\n",
        "оружие\n",
        "\n",
        "бурь\n",
        "\n",
        "до\n",
        "\n",
        "победы\n",
        "\n",
        "не\n",
        "\n",
        "класть.\n"
      ],
      "metadata": {
        "id": "ZOV60EmCfegr"
      }
    },
    {
      "cell_type": "code",
      "source": [
        "inputLine = input()\n",
        "\n",
        "print (\"\\n\".join(inputLine.split()))"
      ],
      "metadata": {
        "id": "wHkhPxzfM3AF",
        "outputId": "4a224cd9-4570-420a-ad56-ad1d175254b1",
        "colab": {
          "base_uri": "https://localhost:8080/"
        }
      },
      "execution_count": 14,
      "outputs": [
        {
          "output_type": "stream",
          "name": "stdout",
          "text": [
            "И волны клянутся всеводному Цику оружие бурь до победы не класть.\n",
            "И\n",
            "волны\n",
            "клянутся\n",
            "всеводному\n",
            "Цику\n",
            "оружие\n",
            "бурь\n",
            "до\n",
            "победы\n",
            "не\n",
            "класть.\n"
          ]
        }
      ]
    },
    {
      "cell_type": "markdown",
      "source": [
        "## Задача 5\n",
        "\n",
        "Найдите сумму чисел из введённого набора от данного номера до данного номера. Например, если введены номера «2 4», то нужно найти сумму чисел в наборе со 2-го по 4-е.\n",
        "\n",
        "**Формат ввода**\n",
        "\n",
        "На первой строке вводится набор целых чисел, разделённых пробелами.\n",
        "На второй строке вводятся два целых числа M и K, не меньших нуля и меньших количества чисел в наборе. Это номера в наборе, отмечающие начало и конец той части набора, которую нужно просуммировать. Нумерация идёт с нуля.\n",
        "\n",
        "**Формат вывода**\n",
        "\n",
        "Выводится одно число — сумма чисел в наборе, начиная с M-го и заканчивая K-м (включительно).\n",
        "\n",
        "**Пример**\n",
        "\n",
        "**Ввод**\n",
        "\n",
        "9 4 8 100 8000 444\n",
        "\n",
        "2 4\n",
        "\n",
        "**Вывод**\n",
        "\n",
        "\n",
        "8108"
      ],
      "metadata": {
        "id": "g1zg4lEufzJv"
      }
    },
    {
      "cell_type": "code",
      "source": [
        "numbers = input().split()\n",
        "rangeNum = input().split()\n",
        "outValue =0\n",
        "for index in range(int(rangeNum[0]),int(rangeNum[1])+1):\n",
        "     outValue+= int(numbers[index])\n",
        "\n",
        "print(outValue)"
      ],
      "metadata": {
        "id": "3e7hUyh_M3y1",
        "outputId": "4633722a-784b-48f9-b9ba-19ed9313be68",
        "colab": {
          "base_uri": "https://localhost:8080/"
        }
      },
      "execution_count": 28,
      "outputs": [
        {
          "output_type": "stream",
          "name": "stdout",
          "text": [
            "9 4 8 100 8000 444\n",
            "2 4\n",
            "8108\n"
          ]
        }
      ]
    },
    {
      "cell_type": "markdown",
      "source": [
        "## Задача 6\n",
        "\n",
        "Используя списочное выражение и подходящую стандартную функцию, найдите длину самого длинного из введённых слов.\n",
        "\n",
        "**Формат ввода**\n",
        "\n",
        "Одна строка: слова, разделённые пробелами.\n",
        "\n",
        "**Формат вывода**\n",
        "\n",
        "Одно число: длина самого длинного из введённых слов.\n",
        "\n",
        "**Пример**\n",
        "\n",
        "**Ввод**\n",
        "\n",
        "окажем скорейшее вспомоществование\n",
        "\n",
        "**Вывод**\n",
        "\n",
        "17"
      ],
      "metadata": {
        "id": "0kd7WuMnC_LX"
      }
    },
    {
      "cell_type": "code",
      "source": [],
      "metadata": {
        "id": "yGRTXtTlC-8i"
      },
      "execution_count": null,
      "outputs": []
    },
    {
      "cell_type": "markdown",
      "source": [
        "## Задача 7\n",
        "\n",
        "Напишите программу, которая находит рекордное количество вхождений (не обязательно подряд) символа в строку.\n",
        "\n",
        "**Формат ввода**\n",
        "\n",
        "Вводится одна строка.\n",
        "\n",
        "**Формат вывода**\n",
        "\n",
        "Выводится одно целое число — максимальное количество раз, которое встречается какая-либо буква (без учёта регистра) или иной символ во введённой строке.\n",
        "\n",
        "**Пример**\n",
        "\n",
        "**Ввод**\n",
        "\n",
        "Длинношеееед\n",
        "\n",
        "**Вывод**\n",
        "\n",
        "4"
      ],
      "metadata": {
        "id": "XE47N8LvH-b9"
      }
    },
    {
      "cell_type": "code",
      "source": [],
      "metadata": {
        "id": "6SfqS2GqNSU8"
      },
      "execution_count": null,
      "outputs": []
    },
    {
      "cell_type": "markdown",
      "source": [
        "## Задача 8\n",
        "\n",
        "Часто бывает нужно сосчитать, сколько в тексте печатаемых знаков. Напишите программу, которая это делает. (Запишите решение в одну строку).\n",
        "\n",
        "**Формат ввода**\n",
        "\n",
        "Вводится одна строка.\n",
        "\n",
        "**Формат вывода**\n",
        "\n",
        "Выводится одно целое число — количество символов в этой строке, не являющихся ни пробелами, ни табуляциями.\n",
        "\n",
        "**Пример**\n",
        "\n",
        "**Ввод**\n",
        "\n",
        "Раз два три\n",
        "\n",
        "**Вывод**\n",
        "\n",
        "9"
      ],
      "metadata": {
        "id": "6sI_pxybIkxe"
      }
    },
    {
      "cell_type": "code",
      "source": [],
      "metadata": {
        "id": "l6N6_MH8IhZK"
      },
      "execution_count": null,
      "outputs": []
    },
    {
      "cell_type": "markdown",
      "source": [
        "## Задача 9\n",
        "\n",
        "Напишите программу, которая сначала считывает элементы таблицы один за другим, записывает их в список списков с именем *table*, затем выводит их в виде таблицы.\n",
        "\n",
        "**Формат ввода**\n",
        "\n",
        "На первых двух строках вводятся натуральные числа — количество строк (рядов) в таблице и количество столбцов в таблице.\n",
        "\n",
        "Далее вводятся сами элементы таблицы — слова, каждое на отдельной строчке; подряд идут элементы сначала первого ряда, затем второго, и так далее.\n",
        "\n",
        "**Формат вывода**\n",
        "\n",
        "Ряды таблицы; каждый ряд — элементы таблицы на одной и той же строке, после каждого элемента выводится символ табуляции.\n",
        "\n",
        "**Пример**\n",
        "\n",
        "**Ввод**\n",
        "\n",
        "3\n",
        "\n",
        "2\n",
        "\n",
        "тройка\n",
        "\n",
        "треф\n",
        "\n",
        "семёрка\n",
        "\n",
        "червей\n",
        "\n",
        "дама\n",
        "\n",
        "пик\n",
        "\n",
        "**Вывод**\n",
        "\n",
        "тройка\tтреф\n",
        "\n",
        "семёрка\tчервей\n",
        "\n",
        "дама\tпик"
      ],
      "metadata": {
        "id": "6Jg4oponKHmp"
      }
    }
  ]
}