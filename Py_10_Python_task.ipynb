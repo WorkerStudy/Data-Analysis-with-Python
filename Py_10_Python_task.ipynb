{
  "nbformat": 4,
  "nbformat_minor": 0,
  "metadata": {
    "colab": {
      "provenance": [],
      "include_colab_link": true
    },
    "kernelspec": {
      "name": "python3",
      "display_name": "Python 3"
    },
    "language_info": {
      "name": "python"
    }
  },
  "cells": [
    {
      "cell_type": "markdown",
      "metadata": {
        "id": "view-in-github",
        "colab_type": "text"
      },
      "source": [
        "<a href=\"https://colab.research.google.com/github/WorkerStudy/Data-Analysis-with-Python/blob/main/Py_10_Python_task.ipynb\" target=\"_parent\"><img src=\"https://colab.research.google.com/assets/colab-badge.svg\" alt=\"Open In Colab\"/></a>"
      ]
    },
    {
      "cell_type": "markdown",
      "source": [
        "**Задача 1**\n",
        "\n",
        "Напишите функцию **average(marks)** для расчета среднего балла из нескольких оценок. В качестве аргумента в функцию передается список оценок. Нужно вывести средний балл. Округлять не нужно."
      ],
      "metadata": {
        "id": "5Bu4fadUkz-A"
      }
    },
    {
      "cell_type": "markdown",
      "source": [
        "**Ввод**\n",
        "\n",
        "marks = [5, 4, 3, 4]\n",
        "\n",
        "average(marks)\n",
        "\n",
        "**Вывод**\n",
        "\n",
        "4.0"
      ],
      "metadata": {
        "id": "-cVY1zpfk_rH"
      }
    },
    {
      "cell_type": "code",
      "execution_count": null,
      "metadata": {
        "id": "VWCRmIAmj4-Y",
        "outputId": "d463b32e-f716-49a8-9e10-e35c97262803",
        "colab": {
          "base_uri": "https://localhost:8080/"
        }
      },
      "outputs": [
        {
          "output_type": "execute_result",
          "data": {
            "text/plain": [
              "4.0"
            ]
          },
          "metadata": {},
          "execution_count": 3
        }
      ],
      "source": [
        "def average(listEl):\n",
        "    summ=0\n",
        "    for num in listEl:\n",
        "        summ+=num\n",
        "    return summ/len(listEl)\n",
        "\n",
        "marks = [5, 4, 3, 4]\n",
        "\n",
        "average(marks)"
      ]
    },
    {
      "cell_type": "markdown",
      "source": [
        "**Задача 2**\n",
        "\n",
        "Напишите функцию **permission(code)** для проверки кода доступа. В функцию передается число – контрольный код доступа. Если введенное число имеет такую же сумму цифр, как и сумма цифр кода, то доступ разрешен, функция выводит **ACCESS IS ALLOWED**, иначе выводит **ACCESS IS DENIED**."
      ],
      "metadata": {
        "id": "GaFlGpBSlb63"
      }
    },
    {
      "cell_type": "markdown",
      "source": [
        "**Ввод**\n",
        "\n",
        "permission(\"100500\")\n",
        "\n",
        "6\n",
        "\n",
        "**Вывод**\n",
        "\n",
        "ACCESS IS ALLOWED\n"
      ],
      "metadata": {
        "id": "L0-HiLZ_lltk"
      }
    },
    {
      "cell_type": "code",
      "source": [
        "def premission(code):\n",
        "    summ=0\n",
        "    for simbol in code :\n",
        "        summ+=int(simbol)\n",
        "    if summ == 6:\n",
        "      print(\"ACCESS IS ALLOWED\")\n",
        "    else:\n",
        "      print(\"ACCESS IS DENIED\")\n",
        "\n",
        "premission(\"100500\")"
      ],
      "metadata": {
        "id": "OMnz8siDlyk3",
        "outputId": "bc451800-e2fb-46bb-9523-82f328f96d80",
        "colab": {
          "base_uri": "https://localhost:8080/"
        }
      },
      "execution_count": null,
      "outputs": [
        {
          "output_type": "stream",
          "name": "stdout",
          "text": [
            "ACCESS IS ALLOWED\n"
          ]
        }
      ]
    },
    {
      "cell_type": "markdown",
      "source": [
        "**Задача 3**\n",
        "\n",
        "Напишите функцию **template()**, получающую в качестве аргументов три стороны треугольника и выводящую сведения о его характеристиках в виде:\n",
        "\n",
        "Периметр: <значение>\n",
        "\n",
        "Площадь: <значение>\n",
        "\n",
        "Равнобедренный: <да или нет>\n",
        "\n",
        "Равносторонний: <да или нет>\n",
        "\n",
        "\n",
        "Если треугольник с такими сторонами не существует, вместо всех характеристик вывести **None**."
      ],
      "metadata": {
        "id": "48tshZMamCJ8"
      }
    },
    {
      "cell_type": "markdown",
      "source": [
        "**Ввод**\n",
        "\n",
        "template(5, 4, 5)\n",
        "\n",
        "**Вывод**\n",
        "\n",
        "Периметр: 14\n",
        "\n",
        "Площадь: 9.16515138991168\n",
        "\n",
        "Равнобедренный: да\n",
        "\n",
        "Равносторонний: нет"
      ],
      "metadata": {
        "id": "THiVaCXgmQVH"
      }
    },
    {
      "cell_type": "markdown",
      "source": [
        "**Ввод**\n",
        "\n",
        "template(2, 1, 3)\n",
        "\n",
        "**Вывод**\n",
        "\n",
        "None"
      ],
      "metadata": {
        "id": "5kqCQoiimh2t"
      }
    },
    {
      "cell_type": "code",
      "source": [
        "def template(a1,a2,a3):\n",
        "    print(\"Периметр:\", a1+a2+a3)\n",
        "    print(\"Площадь:\", a1*a2*a3)\n"
      ],
      "metadata": {
        "id": "UU87kGCsmriV"
      },
      "execution_count": null,
      "outputs": []
    },
    {
      "cell_type": "markdown",
      "source": [
        "**Задача 4**\n",
        "\n",
        "Напишите функцию **take_large_banknotes(banknotes)**, которая будет принимать набор купюр и монет (в форме списка чисел, представляющих их номиналы), и возвращать список, в котором оставлены только крупные купюры больше (строго больше) 10 рублей.\n",
        "Порядок отобранных купюр сохраните таким, какой был в исходном списке.\n",
        "\n",
        "\n",
        "Вы только перечисляете купюры, которые хотите забрать, но не удаляете их из списка. Исходный список должен остаться неизменным."
      ],
      "metadata": {
        "id": "Bd1fJLZ5oHog"
      }
    },
    {
      "cell_type": "markdown",
      "source": [
        "**Ввод**\n",
        "\n",
        "print(*take_large_banknotes([1, 5, 500, 0.5, 2, 0.1, 10, 100, 100, 1000, 50]))\n",
        "\n",
        "**Вывод**\n",
        "\n",
        "500 100 100 1000 50\n"
      ],
      "metadata": {
        "id": "W9USZvGfoZ2D"
      }
    },
    {
      "cell_type": "code",
      "source": [
        "def take_large_banknotes(listBanknotes):\n",
        "    banknotes= list()\n",
        "    for banknot in listBanknotes :\n",
        "        if banknot>10:\n",
        "           banknotes.append(banknot)\n",
        "    return banknotes\n",
        "\n",
        "banknotes = []\n",
        "\n",
        "print(*take_large_banknotes([1, 5, 500, 0.5, 2, 0.1, 10, 100, 100, 1000, 50]))"
      ],
      "metadata": {
        "id": "51tugOTGpdG3",
        "outputId": "79b35b29-b28c-4366-f08c-0936da4e4e78",
        "colab": {
          "base_uri": "https://localhost:8080/"
        }
      },
      "execution_count": 5,
      "outputs": [
        {
          "output_type": "stream",
          "name": "stdout",
          "text": [
            "500 100 100 1000 50\n"
          ]
        }
      ]
    },
    {
      "cell_type": "markdown",
      "source": [
        "**Задача 5**\n",
        "\n",
        "В этой задаче вы будете работать с картой высот для прямоугольного кусочка местности.\n",
        "\n",
        "Местность разбита на небольшие квадраты, и для каждого квадрата записана высота его центра над уровнем моря. Эти высоты записаны в матрицу (прямоугольную таблицу).\n",
        "\n",
        "Напишите функцию, которая найдет координату (номер ряда и номер столбца) самого высокого участка и вернет их из функции так, чтобы можно было использовать множественное присваивание:\n",
        "row, column = **find_mountain(heightsMap)**\n",
        "Если есть несколько участков карты, имеющих максимальную высоту, то допустимо вернуть любой из них.\n",
        "\n",
        "Пример: вызов find_mountain([[1,3,1],[3,2,5],[2,2,2]]) вернёт кортеж (1,2), соответствующий горе высоты 5."
      ],
      "metadata": {
        "id": "OSyR4xdLpdcf"
      }
    },
    {
      "cell_type": "markdown",
      "source": [
        "**Ввод**\n",
        "\n",
        "a = [[1, 3, 1], [3, 2, 5], [2, 2, 2]]\n",
        "\n",
        "print(find_mountain(a))\n",
        "\n",
        "**Вывод**\n",
        "\n",
        "(1, 2)\n",
        "\n",
        "**Ввод**\n",
        "\n",
        "a = [[2, 4, 2, 3, 2], [3, 2, 3, 4, 3]]\n",
        "\n",
        "row, col = find_mountain(a)\n",
        "\n",
        "print(a[row][col])\n",
        "\n",
        "**Вывод**\n",
        "\n",
        "4"
      ],
      "metadata": {
        "id": "k9TFxapHpsbQ"
      }
    },
    {
      "cell_type": "code",
      "source": [
        "def find_mountain(listCoor):\n",
        "    row=0\n",
        "    col=0\n",
        "    for coordIn in listCoor:\n",
        "        for coor in coordIn:\n",
        "\n",
        "    return (row,col)\n",
        "\n",
        "a = [[1, 3, 1], [3, 2, 5], [2, 2, 2]]\n",
        "\n",
        "print(find_mountain(a))"
      ],
      "metadata": {
        "id": "sv_bSRtIqY6E"
      },
      "execution_count": null,
      "outputs": []
    }
  ]
}