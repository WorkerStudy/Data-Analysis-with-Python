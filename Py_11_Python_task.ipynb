{
  "nbformat": 4,
  "nbformat_minor": 0,
  "metadata": {
    "colab": {
      "provenance": [],
      "include_colab_link": true
    },
    "kernelspec": {
      "name": "python3",
      "display_name": "Python 3"
    },
    "language_info": {
      "name": "python"
    }
  },
  "cells": [
    {
      "cell_type": "markdown",
      "metadata": {
        "id": "view-in-github",
        "colab_type": "text"
      },
      "source": [
        "<a href=\"https://colab.research.google.com/github/WorkerStudy/Data-Analysis-with-Python/blob/main/Py_11_Python_task.ipynb\" target=\"_parent\"><img src=\"https://colab.research.google.com/assets/colab-badge.svg\" alt=\"Open In Colab\"/></a>"
      ]
    },
    {
      "cell_type": "markdown",
      "source": [
        "**Задача 1**\n",
        "\n",
        "Напишите две функции **larger_root(p,q)** и **smaller_root(p,q)**, которые возвращают больший и меньший корни приведённого квадратного уравнения $x2 + px + q = 0$. В качестве аргументов функции должны принимать коэффициенты $p$ и $q$. Считать, что дискриминант неотрицателен.\n",
        "\n",
        "Также сделайте функцию **discriminant(a,b,c)**, которая вычисляет и возвращает дискриминант квадратного уравнения, записанного в общем виде: $ax2 + bx + c = 0$.\n",
        "\n",
        "Функции вычисления корней должны использовать функцию вычисления дискриминанта.\n",
        "\n",
        "Наконец, сделайте функцию **main()**, которая запрашивает у пользователя два вещественных числа $p$ и $q$, и в ответ печатает на первой строке дискриминант уравнения $x2 + px + q = 0$, на второй строке – меньший и больший корни. Она должна выводить оба корня, даже если они совпадают.\n",
        "\n",
        "**Ввод**\n",
        "\n",
        "print(smaller_root(2, 1))\n",
        "\n",
        "**Вывод**\n",
        "\n",
        "-1.0\n",
        "\n",
        "**Ввод**\n",
        "\n",
        "print(larger_root(2, 1))\n",
        "\n",
        "**Вывод**\n",
        "\n",
        "-1\n",
        "\n",
        "**Ввод**\n",
        "\n",
        "print(discriminant(1, 2, 1))\n",
        "\n",
        "**Вывод**\n",
        "\n",
        "0\n",
        "\n",
        "**Ввод**\n",
        "\n",
        "Ввод функции main() (при запуске функции main() с клавиатуры вводятся указанные значения для $p$ и $q$)\n",
        "\n",
        "-2.5\n",
        "\n",
        "1\n",
        "\n",
        "**Вывод**\n",
        "\n",
        "2.25\n",
        "\n",
        "0.5  2.0\n",
        "\n"
      ],
      "metadata": {
        "id": "shHlLwImEVih"
      }
    },
    {
      "cell_type": "code",
      "execution_count": 9,
      "metadata": {
        "id": "F-CY81aCENgW",
        "outputId": "b7010c33-4e63-4fee-b657-5659f8d61ffa",
        "colab": {
          "base_uri": "https://localhost:8080/"
        }
      },
      "outputs": [
        {
          "output_type": "stream",
          "name": "stdout",
          "text": [
            "-1.0\n",
            "-1.0\n",
            "0\n",
            "-2.5\n",
            "1\n",
            "2.25\n",
            "0.5 2.0\n"
          ]
        }
      ],
      "source": [
        "import math\n",
        "\n",
        "def discriminant(a, b, c):\n",
        "    return b * b - 4 * a * c\n",
        "\n",
        "\n",
        "def smaller_root(p, q):\n",
        "    d = discriminant(1, p, q)\n",
        "    return (-p - math.sqrt(d)) / 2\n",
        "\n",
        "\n",
        "def larger_root(p, q):\n",
        "    d = discriminant(1, p, q)\n",
        "    return (-p + math.sqrt(d)) / 2\n",
        "\n",
        "\n",
        "def main():\n",
        "\n",
        "    input_p= float(input())\n",
        "    input_q= float(input())\n",
        "\n",
        "    print(discriminant(1,input_p,input_q,))\n",
        "    print(smaller_root(input_p,input_q), larger_root(input_p, input_q), sep=\" \")\n",
        "\n",
        "\n",
        "print(smaller_root(2, 1))\n",
        "print(larger_root(2, 1))\n",
        "print(discriminant(1, 2, 1))\n",
        "main()"
      ]
    },
    {
      "cell_type": "markdown",
      "source": [
        "**Задача 2**\n",
        "\n",
        "Из-за плохой связи на мобильный телефон Василия приходят одни и те же смски по несколько раз. Он попросил вас написать небольшую функцию, которая будет работать почти как обычный print, но не будет печатать сообщение, если предыдущее сообщение было таким же.\n",
        "\n",
        "Чтобы телефон эти изменения в распечатке смсок принял, ваш друг настроил его так, что вам достаточно написать функцию **print_without_duplicates(message)**. Напишите её.\n",
        "\n",
        "**Ввод**\n",
        "\n",
        "print_without_duplicates(\"Привет\")\n",
        "\n",
        "print_without_duplicates(\"Не могу до тебя дозвониться\")\n",
        "\n",
        "print_without_duplicates(\"Не могу до тебя дозвониться\")\n",
        "\n",
        "print_without_duplicates(\"Не могу до тебя дозвониться\")\n",
        "\n",
        "print_without_duplicates(\"Когда доедешь до дома\")\n",
        "\n",
        "print_without_duplicates(\"Ага, жду\")\n",
        "\n",
        "print_without_duplicates(\"Ага, жду\")\n",
        "\n",
        "**Вывод**\n",
        "\n",
        "Привет\n",
        "\n",
        "Не могу до тебя дозвониться\n",
        "\n",
        "Когда доедешь до дома\n",
        "\n",
        "Ага, жду"
      ],
      "metadata": {
        "id": "j4MYTDMlEbUQ"
      }
    },
    {
      "cell_type": "code",
      "source": [
        "prev =\"\"\n",
        "\n",
        "def print_without_duplicates(message):\n",
        "    global prev\n",
        "    if not message == prev:\n",
        "       print(message)\n",
        "       prev=message\n",
        "\n",
        "print_without_duplicates(\"Привет\")\n",
        "\n",
        "print_without_duplicates(\"Не могу до тебя дозвониться\")\n",
        "\n",
        "print_without_duplicates(\"Не могу до тебя дозвониться\")\n",
        "\n",
        "print_without_duplicates(\"Не могу до тебя дозвониться\")\n",
        "\n",
        "print_without_duplicates(\"Когда доедешь до дома\")\n",
        "\n",
        "print_without_duplicates(\"Ага, жду\")\n",
        "\n",
        "print_without_duplicates(\"Ага, жду\")\n",
        "\n"
      ],
      "metadata": {
        "id": "2gaDGR3sEeLV",
        "outputId": "2e355ad8-71e1-425c-9e1b-74955bc1b08c",
        "colab": {
          "base_uri": "https://localhost:8080/"
        }
      },
      "execution_count": null,
      "outputs": [
        {
          "output_type": "stream",
          "name": "stdout",
          "text": [
            "Привет\n",
            "Не могу до тебя дозвониться\n",
            "Когда доедешь до дома\n",
            "Ага, жду\n"
          ]
        }
      ]
    },
    {
      "cell_type": "markdown",
      "source": [
        "**Задача 3**\n",
        "\n",
        "Для работы небольшого магазинчика вас попросили сделать небольшой набор функций, обеспечивающих работу с чеками. В качестве пробной версии вам нужно реализовать всего два действия: добавление покупки к набору покупаемых товаров, и печать чека. После того как чек напечатан должно быть возможно вводить новый список товаров.\n",
        "\n",
        "По правилам оформления документов в каждом чеке вы должны напечатать сначала номер чека (нумерация начинается с единицы) и число товаров, затем список товаров с ценами и в конце — итоговую стоимость. Из-за того, что вы не знаете число товаров, пока кассир не «пробьет» последний товар, нельзя печатать чек по мере ввода товаров. Приходится сначала добавить все необходимые товары и только затем печатать весь чек целиком. В конце чека печатается черта (состоящая из пяти знаков минус), по которой он отрывается от ленты.\n",
        "\n",
        "Организуйте две функции: **add_item(item_name, item_cost)** и **print_receipt()**, которые реализуют указанный функционал. Форматирование сделайте по шаблону в примере.\n",
        "В случае, когда чек пуст, print_receipt не должна печатать чек. Не забудьте, что после того как чек напечатан, набор выбранных товаров должен обнулиться, чтобы можно было вводить товары для нового чека.\n",
        "\n",
        "**Ввод**\n",
        "\n",
        "add_item('Блокнот', 100)\n",
        "\n",
        "print_receipt()\n",
        "\n",
        "add_item('Ручка', 70)\n",
        "\n",
        "print_receipt()\n",
        "\n",
        "print_receipt()\n",
        "\n",
        "add_item('Булочка', 15)\n",
        "\n",
        "add_item('Булочка', 15)\n",
        "\n",
        "add_item('Чай', 5)\n",
        "\n",
        "print_receipt()\n",
        "\n",
        "add_item('Булочка', 15)\n",
        "\n",
        "add_item('Булочка', 15)\n",
        "\n",
        "\\# (Отменить чек) - этот чек не печатаем\n",
        "\n",
        "\n",
        "**Вывод**\n",
        "\n",
        "Чек 1. Всего предметов: 1\n",
        "\n",
        "Блокнот - 100\n",
        "\n",
        "Итого: 100\n",
        "\n",
        "$-----$\n",
        "\n",
        "Чек 2. Всего предметов: 1\n",
        "\n",
        "Ручка - 70\n",
        "Итого: 70\n",
        "\n",
        "$-----$\n",
        "\n",
        "Чек 3. Всего предметов: 3\n",
        "\n",
        "Булочка - 15\n",
        "\n",
        "Булочка - 15\n",
        "\n",
        "Чай - 5\n",
        "\n",
        "Итого: 35\n",
        "\n",
        "$-----$"
      ],
      "metadata": {
        "id": "K9Ef23paEewg"
      }
    },
    {
      "cell_type": "code",
      "source": [
        "item={}\n",
        "count_item=0\n",
        "count_receipt=0\n",
        "\n",
        "def add_item(item_name, item_cost):\n",
        "    global item, count_item\n",
        "    item[count_item]={item_name: item_cost};\n",
        "    count_item+=1\n",
        "\n",
        "\n",
        "def print_receipt():\n",
        "    global count_item, count_receipt, item\n",
        "    if count_item == 0:\n",
        "       return\n",
        "\n",
        "    count_receipt+=1\n",
        "    print(f\"Чек {count_receipt}. Всего предметов: {count_item}\")\n",
        "    for product in item.values():\n",
        "        summ=0\n",
        "        for name,price in product.items():\n",
        "            print(f\"{name} - {price}\")\n",
        "            summ+=price\n",
        "    print(\"−−−−−\")\n",
        "    count_item=0\n",
        "    item={}\n",
        "\n",
        "\n",
        "\n",
        "add_item('Блокнот', 100)\n",
        "\n",
        "print_receipt()\n",
        "\n",
        "add_item('Ручка', 70)\n",
        "\n",
        "print_receipt()\n",
        "\n",
        "print_receipt()\n",
        "\n",
        "add_item('Булочка', 15)\n",
        "\n",
        "add_item('Булочка', 15)\n",
        "\n",
        "add_item('Чай', 5)\n",
        "\n",
        "print_receipt()\n",
        "\n",
        "add_item('Булочка', 15)\n",
        "\n",
        "add_item('Булочка', 15)"
      ],
      "metadata": {
        "id": "CW48ER5pEjCV",
        "outputId": "e3e74f7b-eac2-4961-dbfb-fe6c0213df6a",
        "colab": {
          "base_uri": "https://localhost:8080/"
        }
      },
      "execution_count": null,
      "outputs": [
        {
          "output_type": "stream",
          "name": "stdout",
          "text": [
            "Чек 1. Всего предметов: 1\n",
            "Блокнот - 100\n",
            "−−−−−\n",
            "Чек 2. Всего предметов: 1\n",
            "Ручка - 70\n",
            "−−−−−\n",
            "Чек 3. Всего предметов: 3\n",
            "Булочка - 15\n",
            "Булочка - 15\n",
            "Чай - 5\n",
            "−−−−−\n"
          ]
        }
      ]
    },
    {
      "cell_type": "markdown",
      "source": [
        "**Задача 4**\n",
        "\n",
        "Алиса хочет устроить вечеринку по поводу ее дня рождения. Она хочет пригласить друзей так, чтобы друзья были между собой знакомы.\n",
        "\n",
        "Помогите Алисе автоматизировать процесс написания приглашений. Напишите три функции: **add_friends()**, **are_friends()** и **print_friends()**.\n",
        "\n",
        "Функция **add_friends(name_of_person, list_of_friends)** принимает на вход два аргумента: имя человека и список имен его друзей.\n",
        "\n",
        "Функция **are_friends(name_of_person1, name_of_person2)** принимает на вход два аргумента: имя первого человека и имя второго человека и возвращает **True** или **False**, в зависимости от того, считает ли первый человек второго своим другом.\n",
        "\n",
        "А функция **print_friends(name_of_person)** принимает на вход имя человека и печатает список его друзей через пробел в алфавитном порядке.\n",
        "\n",
        "**Ввод**\n",
        "\n",
        "add_friends(\"Алла\", [\"Марина\", \"Иван\"])\n",
        "\n",
        "print(are_friends(\"Алла\", \"Мария\"))\n",
        "\n",
        "add_friends(\"Алла\", [\"Мария\"])\n",
        "\n",
        "print(are_friends(\"Алла\", \"Мария\"))\n",
        "\n",
        "**Вывод**\n",
        "\n",
        "False\n",
        "\n",
        "True"
      ],
      "metadata": {
        "id": "4XyT4uG5EkKB"
      }
    },
    {
      "cell_type": "code",
      "source": [
        "friends_Alice={}\n",
        "\n",
        "def add_friends(name_of_person,list_of_friends):\n",
        "     friends = friends_Alice.get(name_of_person)\n",
        "     if friends:\n",
        "        friends_Alice[name_of_person] = friends + list_of_friends\n",
        "     else:\n",
        "        friends_Alice[name_of_person] = list_of_friends\n",
        "\n",
        "\n",
        "def are_friends(name_of_person1,name_of_person2):\n",
        "    if name_of_person2 in friends_Alice[name_of_person1]:\n",
        "        return True\n",
        "    return False\n",
        "\n",
        "\n",
        "def print_friends(name_of_person):\n",
        "     s = reversed(friends_Alice[name_of_person])\n",
        "     for i in s:\n",
        "        print(i, end=' ')\n",
        "     print()\n",
        "\n",
        "\n",
        "\n",
        "add_friends(\"Алла\", [\"Марина\", \"Иван\"])\n",
        "\n",
        "print(are_friends(\"Алла\", \"Мария\"))\n",
        "\n",
        "add_friends(\"Алла\", [\"Мария\"])\n",
        "\n",
        "print(are_friends(\"Алла\", \"Мария\"))\n",
        "\n",
        "print_friends(\"Алла\")"
      ],
      "metadata": {
        "id": "8g_-G2_8EpuW",
        "outputId": "d2f8853a-921a-4a5f-a507-05b908d5ff60",
        "colab": {
          "base_uri": "https://localhost:8080/"
        }
      },
      "execution_count": null,
      "outputs": [
        {
          "output_type": "stream",
          "name": "stdout",
          "text": [
            "False\n",
            "True\n",
            "Мария Иван Марина \n"
          ]
        }
      ]
    }
  ]
}