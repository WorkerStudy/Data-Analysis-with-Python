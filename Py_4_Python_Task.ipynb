{
  "nbformat": 4,
  "nbformat_minor": 0,
  "metadata": {
    "colab": {
      "provenance": [],
      "include_colab_link": true
    },
    "kernelspec": {
      "name": "python3",
      "display_name": "Python 3"
    },
    "language_info": {
      "name": "python"
    }
  },
  "cells": [
    {
      "cell_type": "markdown",
      "metadata": {
        "id": "view-in-github",
        "colab_type": "text"
      },
      "source": [
        "<a href=\"https://colab.research.google.com/github/WorkerStudy/Data-Analysis-with-Python/blob/main/Py_4_Python_Task.ipynb\" target=\"_parent\"><img src=\"https://colab.research.google.com/assets/colab-badge.svg\" alt=\"Open In Colab\"/></a>"
      ]
    },
    {
      "cell_type": "markdown",
      "source": [
        "## Задача 1\n",
        "\n",
        "Выведите в цикле while следующую последовательность:\n",
        "\n",
        "13, 12, 11, 10, 9, 8, 7, 6, 5, 4, 3, 2, 1\n",
        "\n",
        "Важно чтобы сохранились пробелы и запятые после выполнения цикла."
      ],
      "metadata": {
        "id": "zRmfAgDTnQfb"
      }
    },
    {
      "cell_type": "code",
      "source": [
        "value = 13\n",
        "\n",
        "while value != 0:\n",
        "  print(value, end=\", \")\n",
        "  value-=1"
      ],
      "metadata": {
        "id": "SSGCJ5ggwBF6",
        "outputId": "3f8c32b5-bc35-4178-ddcb-c942ff91c947",
        "colab": {
          "base_uri": "https://localhost:8080/"
        }
      },
      "execution_count": 4,
      "outputs": [
        {
          "output_type": "stream",
          "name": "stdout",
          "text": [
            "13, 12, 11, 10, 9, 8, 7, 6, 5, 4, 3, 2, 1, "
          ]
        }
      ]
    },
    {
      "cell_type": "markdown",
      "source": [
        "## Задача 2\n",
        "\n",
        "Выведите столбец чисел от 34 до 67 с выводом только четных чисел."
      ],
      "metadata": {
        "id": "_RE4d6crno1B"
      }
    },
    {
      "cell_type": "code",
      "source": [
        "start_value= 34\n",
        "\n",
        "while start_value < 67:\n",
        "    print(start_value)\n",
        "    start_value+=2"
      ],
      "metadata": {
        "id": "gR7Feh2on9rg",
        "outputId": "386cefe0-4809-4f98-b363-39b1731d35ca",
        "colab": {
          "base_uri": "https://localhost:8080/"
        }
      },
      "execution_count": 5,
      "outputs": [
        {
          "output_type": "stream",
          "name": "stdout",
          "text": [
            "34\n",
            "36\n",
            "38\n",
            "40\n",
            "42\n",
            "44\n",
            "46\n",
            "48\n",
            "50\n",
            "52\n",
            "54\n",
            "56\n",
            "58\n",
            "60\n",
            "62\n",
            "64\n",
            "66\n"
          ]
        }
      ]
    },
    {
      "cell_type": "markdown",
      "source": [
        "## Задача 3\n",
        "Пользователь вводит строки одну за другой до тех пор, пока не введёт пустую. Программа должна выводить введенные строки, пока не встретилась пустая.\n",
        "\n",
        "**Формат ввода**\n",
        "\n",
        "Вводятся строки одна за другой.\n",
        "\n",
        "**Формат вывода**\n",
        "\n",
        "Введенные строки до пустой"
      ],
      "metadata": {
        "id": "fojK_ghQn-OV"
      }
    },
    {
      "cell_type": "code",
      "source": [
        "str = input()\n",
        "\n",
        "while str != \"\" :\n",
        "    print(str)\n",
        "    str=input()\n"
      ],
      "metadata": {
        "id": "ZumSkUJ_oEzG",
        "outputId": "4f29942e-058c-4a0c-dbde-ec4d66253b2c",
        "colab": {
          "base_uri": "https://localhost:8080/"
        }
      },
      "execution_count": 9,
      "outputs": [
        {
          "name": "stdout",
          "output_type": "stream",
          "text": [
            "null\n",
            "null\n",
            "not null\n",
            "not null\n",
            "\n"
          ]
        }
      ]
    },
    {
      "cell_type": "markdown",
      "source": [
        "## Задача 4\n",
        "\n",
        "После полета Юрия Гагарина в 1961 практически каждый мальчик СССР хотел стать космонавтом. Прошло уже более полувека, но профессия космонавт все так же престижна. К сожалению, не каждый желающий может пройти отбор, существуют высокие требования к уровню подготовки будущих космонавтов, а также ограничения по антропометрическим показателям. Например, рост космонавта не может быть больше 190 см и меньше 150 см.\n",
        "\n",
        "Напишите программу, которая считывает рост претендентов в отряд космонавтов до тех пор, пока не будет введен «!». А затем выводит на первой строчке количество подходящих кандидатур, а на второй строке – минимальный и максимальный рост участников, отобранных в новый отряд космонавтов.\n",
        "\n",
        "Гарантируется, что в отряд отберутся как минимум два летчика-космонавта.\n",
        "\n",
        "Формат ввода\n",
        "Несколько строк с ростом космонавтов и последняя строка «!».\n",
        "\n",
        "Формат вывода\n",
        "Две строки: количество кандидатур на первой, и минимальный и максимальный рост через пробел – на второй.\n",
        "\n",
        "**Формат ввода**\n",
        "192\n",
        "\n",
        "189\n",
        "\n",
        "145\n",
        "\n",
        "162\n",
        "\n",
        "172\n",
        "\n",
        "!\n",
        "\n",
        "**Формат вывода**\n",
        "\n",
        "3\n",
        "\n",
        "162 189\n"
      ],
      "metadata": {
        "id": "kOQM8McWjfal"
      }
    },
    {
      "cell_type": "code",
      "source": [
        "min =190\n",
        "max =150\n",
        "\n",
        "human=0\n",
        "height=0\n",
        "\n",
        "str= input()\n",
        "\n",
        "while str !=\"!\":\n",
        "\n",
        "    height = int(str)\n",
        "    if height < 190  and height > 150 :\n",
        "        human+=1\n",
        "        if height > max :\n",
        "            max= height\n",
        "        if height < min :\n",
        "            min=height\n",
        "\n",
        "    str=input()\n",
        "\n",
        "print(human)\n",
        "print(min, max)"
      ],
      "metadata": {
        "id": "O-rlQeYvHdiG",
        "outputId": "243a76e5-85da-4507-f572-7337d45c41cd",
        "colab": {
          "base_uri": "https://localhost:8080/"
        }
      },
      "execution_count": 14,
      "outputs": [
        {
          "output_type": "stream",
          "name": "stdout",
          "text": [
            "149\n",
            "191\n",
            "163\n",
            "180\n",
            "183\n",
            "154\n",
            "!\n",
            "4\n",
            "154 183\n"
          ]
        }
      ]
    },
    {
      "cell_type": "markdown",
      "source": [
        "## Задача 5\n",
        "\n",
        "Программа-психотерапевт. Пользователь говорит, программа ничего не отвечает. Когда пользователь закончил говорить, он говорит \"Спасибо\". После этого программа выводит общее количество введённых строк.\n",
        "\n",
        "**Формат ввода**\n",
        "\n",
        "Несколько строк, последняя из которых — \"Спасибо.\"\n",
        "\n",
        "**Формат вывода**\n",
        "\n",
        "Одно целое число — общее количество введённых строк.\n"
      ],
      "metadata": {
        "id": "ZOV60EmCfegr"
      }
    },
    {
      "cell_type": "code",
      "source": [
        "\n",
        "str = input()\n",
        "count =0\n",
        "while str!= \"Спасибо\":\n",
        "    count+=1\n",
        "    str=input()\n",
        "print(count)"
      ],
      "metadata": {
        "id": "-TdE4HdjKp0b",
        "outputId": "6072b1a4-078b-442d-cf1d-e64cd9afecb0",
        "colab": {
          "base_uri": "https://localhost:8080/"
        }
      },
      "execution_count": 17,
      "outputs": [
        {
          "output_type": "stream",
          "name": "stdout",
          "text": [
            "Раз\n",
            "Два\n",
            "Три\n",
            "Спасибо\n",
            "3\n"
          ]
        }
      ]
    },
    {
      "cell_type": "markdown",
      "source": [
        "## Задача 6\n",
        "\n",
        "Пользователь вводит одно за другим целые числа, делящиеся на 10, пока не введёт число, которое не делится на 10. Программа выводит введеные числа до тех пор, пока они делятся на 10\n",
        "\n",
        "Формат ввода\n",
        "Вводятся числа одно за другим, каждое на отдельной строке.\n",
        "\n",
        "Формат вывода\n",
        "Введеные числа, каждое на отдельной строке, пока введенные числа делятся на 10\n",
        "\n",
        "**Пример 1**\n",
        "\n",
        "**Ввод**\n",
        "\n",
        "1\n",
        "\n",
        "**Вывод**\n",
        "\n",
        "\n",
        "**Пример 2**\n",
        "\n",
        "**Ввод**\n",
        "\n",
        "10\n",
        "\n",
        "20\n",
        "\n",
        "0\n",
        "\n",
        "1000\n",
        "\n",
        "150\n",
        "\n",
        "2\n",
        "\n",
        "**Вывод**\n",
        "\n",
        "10\n",
        "\n",
        "20\n",
        "\n",
        "0\n",
        "\n",
        "1000\n",
        "\n",
        "150"
      ],
      "metadata": {
        "id": "g1zg4lEufzJv"
      }
    },
    {
      "cell_type": "code",
      "source": [
        "number = input()\n",
        "listCorrectNum=[]\n",
        "while int(number)%10==0:\n",
        "  listCorrectNum.append(number)\n",
        "  number = input()\n",
        "\n",
        "print('\\n'.join(listCorrectNum))"
      ],
      "metadata": {
        "id": "bkst-rabLU3w",
        "outputId": "f52678df-f816-456c-de0c-800b029e01c8",
        "colab": {
          "base_uri": "https://localhost:8080/"
        }
      },
      "execution_count": 51,
      "outputs": [
        {
          "output_type": "stream",
          "name": "stdout",
          "text": [
            "1000\n",
            "100\n",
            "10\n",
            "1\n",
            "1000\n",
            "100\n",
            "10\n"
          ]
        }
      ]
    },
    {
      "cell_type": "markdown",
      "source": [
        "## Задача 7\n",
        "Вводится произвольное целое число. Выведите число, составленное из этих же цифр в обратном порядке.\n",
        "\n",
        "**Пример 1**\n",
        "\n",
        "**Ввод**\n",
        "\n",
        "123456789\n",
        "\n",
        "**Вывод**\n",
        "\n",
        "987654321\n",
        "\n",
        "**Пример 2**\n",
        "\n",
        "**Ввод**\n",
        "\n",
        "100500\n",
        "\n",
        "**Вывод**\n",
        "\n",
        "5001\n",
        "\n",
        "**Примечания.** Выводимое число не может начинаться с нуля."
      ],
      "metadata": {
        "id": "0kd7WuMnC_LX"
      }
    },
    {
      "cell_type": "code",
      "source": [
        "number = int(input())\n",
        "reversNumber = 0\n",
        "\n",
        "while number>0 :\n",
        "    digit = number%10\n",
        "    number = number//10\n",
        "    reversNumber= (reversNumber*10) +digit\n",
        "\n",
        "print(reversNumber)"
      ],
      "metadata": {
        "id": "yGRTXtTlC-8i",
        "outputId": "f1dda199-cc22-423a-aac4-e7a5ef0d60da",
        "colab": {
          "base_uri": "https://localhost:8080/"
        }
      },
      "execution_count": 32,
      "outputs": [
        {
          "output_type": "stream",
          "name": "stdout",
          "text": [
            "123\n",
            "321\n"
          ]
        }
      ]
    }
  ]
}