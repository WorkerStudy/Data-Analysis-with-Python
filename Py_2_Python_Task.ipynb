{
  "nbformat": 4,
  "nbformat_minor": 0,
  "metadata": {
    "colab": {
      "provenance": [],
      "include_colab_link": true
    },
    "kernelspec": {
      "name": "python3",
      "display_name": "Python 3"
    },
    "language_info": {
      "name": "python"
    }
  },
  "cells": [
    {
      "cell_type": "markdown",
      "metadata": {
        "id": "view-in-github",
        "colab_type": "text"
      },
      "source": [
        "<a href=\"https://colab.research.google.com/github/WorkerStudy/Data-Analysis-with-Python/blob/main/Py_2_Python_Task.ipynb\" target=\"_parent\"><img src=\"https://colab.research.google.com/assets/colab-badge.svg\" alt=\"Open In Colab\"/></a>"
      ]
    },
    {
      "cell_type": "markdown",
      "source": [
        "## Задача 1\n",
        "\n",
        "Напишите программу, которая считывает одну строку. Если это строка «Python», программа выводит «ДА»; в противном случае программа выводит «НЕТ»."
      ],
      "metadata": {
        "id": "zRmfAgDTnQfb"
      }
    },
    {
      "cell_type": "code",
      "source": [
        "\n",
        "if input()==\"Python\":\n",
        "    print(\"ДА\")\n",
        "else:\n",
        "    print(\"НЕТ\")"
      ],
      "metadata": {
        "id": "AVrAB6w127UM"
      },
      "execution_count": null,
      "outputs": []
    },
    {
      "cell_type": "markdown",
      "source": [
        "## Задача 2\n",
        "\n",
        "Напишите программу, которая считывает три строки. Если эти три строки – «раз», «два» и «три», то программа выводит «ГОРИ», если нет, то «НЕ ГОРИ»."
      ],
      "metadata": {
        "id": "_RE4d6crno1B"
      }
    },
    {
      "cell_type": "code",
      "source": [
        "word_1 = input()\n",
        "word_2 = input()\n",
        "word_3 = input()\n",
        "\n",
        "if word_1 in \"раз\" and word_2 in \"два\" and word_3 in \"три\":\n",
        "    print(\"ГОРИ\")\n",
        "else:\n",
        "    print(\"НЕ ГОРИ\")"
      ],
      "metadata": {
        "id": "a1cA9F4U3Hqu",
        "outputId": "4742b97d-990b-4232-c951-1c61066ce73a",
        "colab": {
          "base_uri": "https://localhost:8080/"
        }
      },
      "execution_count": null,
      "outputs": [
        {
          "output_type": "stream",
          "name": "stdout",
          "text": [
            "раз\n",
            "у21\n",
            "три\n",
            "НЕ ГОРИ\n"
          ]
        }
      ]
    },
    {
      "cell_type": "markdown",
      "source": [
        "## Задача 3\n",
        "\n",
        "Усовершенствуйте предыдущую программу так, чтобы не только при вводе «раз», «два», «три», но и при вводе «1», «2» и «3» тоже выводилось «ГОРИ». Смешанный ввод (например, «1», «2», «три») даёт «НЕ ГОРИ»."
      ],
      "metadata": {
        "id": "kOQM8McWjfal"
      }
    },
    {
      "cell_type": "markdown",
      "source": [
        "**Sample Input:**\n",
        "\n",
        "1\n",
        "\n",
        "2\n",
        "\n",
        "3"
      ],
      "metadata": {
        "id": "oWgGEHqqnXf4"
      }
    },
    {
      "cell_type": "markdown",
      "source": [
        "**Sample Output:**\n",
        "\n",
        "ГОРИ"
      ],
      "metadata": {
        "id": "upwXRVgtnhcu"
      }
    },
    {
      "cell_type": "markdown",
      "source": [
        "**Sample Input:**\n",
        "\n",
        "1\n",
        "\n",
        "два\n",
        "\n",
        "три"
      ],
      "metadata": {
        "id": "uNyVyMhbn1of"
      }
    },
    {
      "cell_type": "markdown",
      "source": [
        "**Sample Output:**\n",
        "\n",
        "НЕ ГОРИ"
      ],
      "metadata": {
        "id": "hwLgNk3_n7Gs"
      }
    },
    {
      "cell_type": "code",
      "source": [
        "listWords=[input(),input(),input()]\n",
        "listContainsWords1=[\"1\", \"2\", \"3\"]\n",
        "listContainsWords2=[\"раз\", \"два\", \"три\"]\n",
        "\n",
        "\n",
        "def checkWords(listInput, listCheckWords):\n",
        "  for input in listInput:\n",
        "    if input not in  listCheckWords:\n",
        "        return False\n",
        "\n",
        "    return True\n",
        "\n",
        "\n",
        "if( checkWords(listWords, listContainsWords1) or  checkWords(listWords, listContainsWords2)):\n",
        "    print(\"ГОРИ\")\n",
        "else:\n",
        "    print(\"НЕ ГОРИ\")"
      ],
      "metadata": {
        "id": "V6X17OlP4lvZ",
        "outputId": "1973f359-574e-4de8-aefb-45d5f7bee81a",
        "colab": {
          "base_uri": "https://localhost:8080/"
        }
      },
      "execution_count": 13,
      "outputs": [
        {
          "output_type": "stream",
          "name": "stdout",
          "text": [
            "вы\n",
            "ыф\n",
            "ы\n",
            "НЕ ГОРИ\n"
          ]
        }
      ]
    },
    {
      "cell_type": "markdown",
      "source": [
        "## Задача 4\n",
        "\n",
        "Напишите программу, которая считывает с клавиатуры слово (или фразу, неважно), после чего выводит это же слово четыре раза на одной строке, не разделяя их пробелами."
      ],
      "metadata": {
        "id": "HGbEzaM6kcOV"
      }
    },
    {
      "cell_type": "markdown",
      "source": [
        "**Sample Input:**\n",
        "\n",
        "Hello"
      ],
      "metadata": {
        "id": "Vhndwoc7oKfN"
      }
    },
    {
      "cell_type": "markdown",
      "source": [
        "**Sample Output:**\n",
        "\n",
        "HelloHelloHelloHello"
      ],
      "metadata": {
        "id": "-W0M-69mp4nn"
      }
    },
    {
      "cell_type": "code",
      "source": [
        "word= input()\n",
        "\n",
        "print(word,word,word,word,sep=\"\");"
      ],
      "metadata": {
        "id": "zQ7ZtLgY6AJ0",
        "colab": {
          "base_uri": "https://localhost:8080/"
        },
        "outputId": "6554c5dc-1159-4c58-b75f-f500faa31968"
      },
      "execution_count": 15,
      "outputs": [
        {
          "output_type": "stream",
          "name": "stdout",
          "text": [
            "Hello\n",
            "HelloHelloHelloHello\n"
          ]
        }
      ]
    },
    {
      "cell_type": "markdown",
      "source": [
        "## Задача 5\n",
        "\n",
        "Напишите программу, которая считывает одну строку, после чего выводит «МЯУ», если в введённой строке есть подстрока «кот», и «ГАВ» в противном случае."
      ],
      "metadata": {
        "id": "tbdhcWZT6Brq"
      }
    },
    {
      "cell_type": "markdown",
      "source": [
        "**Sample Input:**\n",
        "\n",
        "Извините, пожалуйста, вы не подскажете, который час?"
      ],
      "metadata": {
        "id": "ErGTXnRN6Brr"
      }
    },
    {
      "cell_type": "markdown",
      "source": [
        "**Sample Output:**\n",
        "\n",
        "МЯУ"
      ],
      "metadata": {
        "id": "f13s4hCq6Brr"
      }
    },
    {
      "cell_type": "code",
      "source": [
        "str = input()\n",
        "\n",
        "if(\"кот\" in str):\n",
        "  print(\"МЯУ\")\n",
        "else:\n",
        "  print(\"ГАВ\")"
      ],
      "metadata": {
        "id": "PKtqMrgIg6mp",
        "outputId": "73c3ac43-d101-4cf3-a78f-3d521d906266",
        "colab": {
          "base_uri": "https://localhost:8080/"
        }
      },
      "execution_count": 17,
      "outputs": [
        {
          "output_type": "stream",
          "name": "stdout",
          "text": [
            "Извините, пожалуйста, вы не подскажете, который час?\n",
            "МЯУ\n"
          ]
        }
      ]
    }
  ]
}