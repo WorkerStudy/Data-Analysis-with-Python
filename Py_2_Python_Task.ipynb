{
  "nbformat": 4,
  "nbformat_minor": 0,
  "metadata": {
    "colab": {
      "provenance": [],
      "include_colab_link": true
    },
    "kernelspec": {
      "name": "python3",
      "display_name": "Python 3"
    },
    "language_info": {
      "name": "python"
    }
  },
  "cells": [
    {
      "cell_type": "markdown",
      "metadata": {
        "id": "view-in-github",
        "colab_type": "text"
      },
      "source": [
        "<a href=\"https://colab.research.google.com/github/WorkerStudy/Data-Analysis-with-Python/blob/main/Py_2_Python_Task.ipynb\" target=\"_parent\"><img src=\"https://colab.research.google.com/assets/colab-badge.svg\" alt=\"Open In Colab\"/></a>"
      ]
    },
    {
      "cell_type": "markdown",
      "source": [
        "## Задача 1\n",
        "\n",
        "Напишите программу, которая считывает одну строку. Если это строка «Python», программа выводит «ДА»; в противном случае программа выводит «НЕТ»."
      ],
      "metadata": {
        "id": "zRmfAgDTnQfb"
      }
    },
    {
      "cell_type": "code",
      "source": [
        "\n",
        "if input()==\"Python\":\n",
        "  print(\"ДА\")\n",
        "else:\n",
        " print(\"НЕТ\")"
      ],
      "metadata": {
        "id": "AVrAB6w127UM"
      },
      "execution_count": null,
      "outputs": []
    },
    {
      "cell_type": "markdown",
      "source": [
        "## Задача 2\n",
        "\n",
        "Напишите программу, которая считывает три строки. Если эти три строки – «раз», «два» и «три», то программа выводит «ГОРИ», если нет, то «НЕ ГОРИ»."
      ],
      "metadata": {
        "id": "_RE4d6crno1B"
      }
    },
    {
      "cell_type": "code",
      "source": [],
      "metadata": {
        "id": "a1cA9F4U3Hqu"
      },
      "execution_count": null,
      "outputs": []
    },
    {
      "cell_type": "markdown",
      "source": [
        "## Задача 3\n",
        "\n",
        "Усовершенствуйте предыдущую программу так, чтобы не только при вводе «раз», «два», «три», но и при вводе «1», «2» и «3» тоже выводилось «ГОРИ». Смешанный ввод (например, «1», «2», «три») даёт «НЕ ГОРИ»."
      ],
      "metadata": {
        "id": "kOQM8McWjfal"
      }
    },
    {
      "cell_type": "markdown",
      "source": [
        "**Sample Input:**\n",
        "\n",
        "1\n",
        "\n",
        "2\n",
        "\n",
        "3"
      ],
      "metadata": {
        "id": "oWgGEHqqnXf4"
      }
    },
    {
      "cell_type": "markdown",
      "source": [
        "**Sample Output:**\n",
        "\n",
        "ГОРИ"
      ],
      "metadata": {
        "id": "upwXRVgtnhcu"
      }
    },
    {
      "cell_type": "markdown",
      "source": [
        "**Sample Input:**\n",
        "\n",
        "1\n",
        "\n",
        "два\n",
        "\n",
        "три"
      ],
      "metadata": {
        "id": "uNyVyMhbn1of"
      }
    },
    {
      "cell_type": "markdown",
      "source": [
        "**Sample Output:**\n",
        "\n",
        "НЕ ГОРИ"
      ],
      "metadata": {
        "id": "hwLgNk3_n7Gs"
      }
    },
    {
      "cell_type": "code",
      "source": [],
      "metadata": {
        "id": "V6X17OlP4lvZ"
      },
      "execution_count": null,
      "outputs": []
    },
    {
      "cell_type": "code",
      "source": [],
      "metadata": {
        "id": "hhRhEDQV5-s8"
      },
      "execution_count": null,
      "outputs": []
    },
    {
      "cell_type": "markdown",
      "source": [
        "## Задача 4\n",
        "\n",
        "Напишите программу, которая считывает с клавиатуры слово (или фразу, неважно), после чего выводит это же слово четыре раза на одной строке, не разделяя их пробелами."
      ],
      "metadata": {
        "id": "HGbEzaM6kcOV"
      }
    },
    {
      "cell_type": "markdown",
      "source": [
        "**Sample Input:**\n",
        "\n",
        "Hello"
      ],
      "metadata": {
        "id": "Vhndwoc7oKfN"
      }
    },
    {
      "cell_type": "markdown",
      "source": [
        "**Sample Output:**\n",
        "\n",
        "HelloHelloHelloHello"
      ],
      "metadata": {
        "id": "-W0M-69mp4nn"
      }
    },
    {
      "cell_type": "code",
      "source": [],
      "metadata": {
        "id": "zQ7ZtLgY6AJ0"
      },
      "execution_count": null,
      "outputs": []
    },
    {
      "cell_type": "markdown",
      "source": [
        "## Задача 5\n",
        "\n",
        "Напишите программу, которая считывает одну строку, после чего выводит «МЯУ», если в введённой строке есть подстрока «кот», и «ГАВ» в противном случае."
      ],
      "metadata": {
        "id": "tbdhcWZT6Brq"
      }
    },
    {
      "cell_type": "markdown",
      "source": [
        "**Sample Input:**\n",
        "\n",
        "Извините, пожалуйста, вы не подскажете, который час?"
      ],
      "metadata": {
        "id": "ErGTXnRN6Brr"
      }
    },
    {
      "cell_type": "markdown",
      "source": [
        "**Sample Output:**\n",
        "\n",
        "МЯУ"
      ],
      "metadata": {
        "id": "f13s4hCq6Brr"
      }
    }
  ]
}