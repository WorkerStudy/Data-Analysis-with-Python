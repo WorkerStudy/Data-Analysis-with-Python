{
  "nbformat": 4,
  "nbformat_minor": 0,
  "metadata": {
    "colab": {
      "provenance": [],
      "include_colab_link": true
    },
    "kernelspec": {
      "name": "python3",
      "display_name": "Python 3"
    },
    "language_info": {
      "name": "python"
    }
  },
  "cells": [
    {
      "cell_type": "markdown",
      "metadata": {
        "id": "view-in-github",
        "colab_type": "text"
      },
      "source": [
        "<a href=\"https://colab.research.google.com/github/WorkerStudy/Data-Analysis-with-Python/blob/main/%D0%9A%D0%BE%D0%BF%D0%B8%D1%8F_%D0%B1%D0%BB%D0%BE%D0%BA%D0%BD%D0%BE%D1%82%D0%B0_%22Py_13_Python_task_ipynb%22.ipynb\" target=\"_parent\"><img src=\"https://colab.research.google.com/assets/colab-badge.svg\" alt=\"Open In Colab\"/></a>"
      ]
    },
    {
      "cell_type": "markdown",
      "source": [
        "**Задача 1**\n",
        "\n",
        "Напишите функцию **function()**, которая принимает произвольное число позиционных аргументов (не менее одного) и именованный аргумент **func**, в который передается некоторая функция. Функция возвращает результат применения функции из аргумента **func** к кортежу из позиционных аргументов.\n",
        "\n",
        "**Ввод**\n",
        "\n",
        "```python\n",
        "data = [1, 2, 15, 3]\n",
        "f = max\n",
        "print(function(*data, func=f))\n",
        "```\n",
        "\n",
        "**Вывод**\n",
        "\n",
        "`15`\n",
        "\n",
        "**Ввод**\n",
        "\n",
        "```python\n",
        "data = [\"one\", \"two\", \"three\"]\n",
        "f = sorted\n",
        "print(function(*data, func=f))\n",
        "```\n",
        "**Вывод**\n",
        "\n",
        "```\n",
        "['one', 'three', 'two']\n",
        "```\n",
        "\n",
        "\n"
      ],
      "metadata": {
        "id": "sDI_mdAGrapv"
      }
    },
    {
      "cell_type": "code",
      "execution_count": 2,
      "metadata": {
        "id": "wefzvR_Jq4YT",
        "colab": {
          "base_uri": "https://localhost:8080/"
        },
        "outputId": "0f3bb4df-0c3a-461a-9dc4-b25e0e3dd424"
      },
      "outputs": [
        {
          "output_type": "stream",
          "name": "stdout",
          "text": [
            "15\n"
          ]
        }
      ],
      "source": [
        "\n",
        "def function(*data, func):\n",
        "    return func(data)\n",
        "\n",
        "data = [1, 2, 15, 3]\n",
        "f = max\n",
        "\n",
        "print(function(*data, func=f))\n"
      ]
    },
    {
      "cell_type": "markdown",
      "source": [
        "**Задача 2**\n",
        "\n",
        "Напишите программу, которая собирает землянички с массой, не меньшей заданной, переходя от полянки к полянке.\n",
        "\n",
        "Вводится минимальная масса землянички, затем количество полянок (строк), затем сами строки чисел, записанных через пробел, – масс земляничин на данной полянке.\n",
        "\n",
        "Нужно вывести общую массу собранной земляники. Использовать **filter, lambda** обязательно.\n",
        "\n",
        "\n",
        "**Ввод**\n",
        "\n",
        "```\n",
        "5\n",
        "3\n",
        "1 3 6 2\n",
        "2 2 1 7 5\n",
        "2 1 1\n",
        "```\n",
        "\n",
        "\n",
        "**Вывод**\n",
        "\n",
        "18\n"
      ],
      "metadata": {
        "id": "WHkrFVkptmVR"
      }
    },
    {
      "cell_type": "code",
      "source": [
        "mimi = int(input('--> ').strip())\n",
        "kolvo = int(input('--> ').strip())\n",
        "all_mass = 0\n",
        "for i in range(kolvo):\n",
        "    polznka = list(map(int, input('--> ').split(' ')))\n",
        "    all_mass += sum(list(filter(lambda x: x > mimi, polznka)))\n",
        "print(all_mass)"
      ],
      "metadata": {
        "id": "folFxOIrubg6",
        "colab": {
          "base_uri": "https://localhost:8080/",
          "height": 478
        },
        "outputId": "b10fb3e1-1f38-4899-bd93-60cfca408e8a"
      },
      "execution_count": 4,
      "outputs": [
        {
          "name": "stdout",
          "output_type": "stream",
          "text": [
            "5\n",
            "3\n",
            "1 3 6 2\n",
            "2 2 1 7 5\n",
            "2 1 1\n",
            "13\n",
            "1\n",
            "2\n"
          ]
        },
        {
          "output_type": "error",
          "ename": "KeyboardInterrupt",
          "evalue": "Interrupted by user",
          "traceback": [
            "\u001b[0;31m---------------------------------------------------------------------------\u001b[0m",
            "\u001b[0;31mKeyboardInterrupt\u001b[0m                         Traceback (most recent call last)",
            "\u001b[0;32m<ipython-input-4-ef4ceebc04b6>\u001b[0m in \u001b[0;36m<cell line: 14>\u001b[0;34m()\u001b[0m\n\u001b[1;32m     12\u001b[0m \u001b[0mmimi\u001b[0m \u001b[0;34m=\u001b[0m \u001b[0mint\u001b[0m\u001b[0;34m(\u001b[0m\u001b[0minput\u001b[0m\u001b[0;34m(\u001b[0m\u001b[0;34m)\u001b[0m\u001b[0;34m)\u001b[0m\u001b[0;34m\u001b[0m\u001b[0;34m\u001b[0m\u001b[0m\n\u001b[1;32m     13\u001b[0m \u001b[0mkolvo\u001b[0m \u001b[0;34m=\u001b[0m \u001b[0mint\u001b[0m\u001b[0;34m(\u001b[0m\u001b[0minput\u001b[0m\u001b[0;34m(\u001b[0m\u001b[0;34m)\u001b[0m\u001b[0;34m)\u001b[0m\u001b[0;34m\u001b[0m\u001b[0;34m\u001b[0m\u001b[0m\n\u001b[0;32m---> 14\u001b[0;31m \u001b[0mpodxodzt\u001b[0m \u001b[0;34m=\u001b[0m \u001b[0msum\u001b[0m\u001b[0;34m(\u001b[0m\u001b[0msum\u001b[0m\u001b[0;34m(\u001b[0m\u001b[0mfilter\u001b[0m\u001b[0;34m(\u001b[0m\u001b[0;32mlambda\u001b[0m \u001b[0mx\u001b[0m\u001b[0;34m:\u001b[0m \u001b[0mx\u001b[0m \u001b[0;34m>\u001b[0m \u001b[0mmimi\u001b[0m \u001b[0;34m,\u001b[0m \u001b[0mmap\u001b[0m\u001b[0;34m(\u001b[0m\u001b[0mint\u001b[0m\u001b[0;34m,\u001b[0m \u001b[0minput\u001b[0m\u001b[0;34m(\u001b[0m\u001b[0;34m)\u001b[0m\u001b[0;34m.\u001b[0m\u001b[0msplit\u001b[0m\u001b[0;34m(\u001b[0m\u001b[0;34m)\u001b[0m\u001b[0;34m)\u001b[0m\u001b[0;34m)\u001b[0m\u001b[0;34m)\u001b[0m \u001b[0;32mfor\u001b[0m \u001b[0m_\u001b[0m \u001b[0;32min\u001b[0m \u001b[0mrange\u001b[0m\u001b[0;34m(\u001b[0m\u001b[0mkolvo\u001b[0m\u001b[0;34m)\u001b[0m\u001b[0;34m)\u001b[0m\u001b[0;34m\u001b[0m\u001b[0;34m\u001b[0m\u001b[0m\n\u001b[0m\u001b[1;32m     15\u001b[0m \u001b[0mprint\u001b[0m\u001b[0;34m(\u001b[0m\u001b[0mpodxodzt\u001b[0m\u001b[0;34m)\u001b[0m\u001b[0;34m\u001b[0m\u001b[0;34m\u001b[0m\u001b[0m\n",
            "\u001b[0;32m<ipython-input-4-ef4ceebc04b6>\u001b[0m in \u001b[0;36m<genexpr>\u001b[0;34m(.0)\u001b[0m\n\u001b[1;32m     12\u001b[0m \u001b[0mmimi\u001b[0m \u001b[0;34m=\u001b[0m \u001b[0mint\u001b[0m\u001b[0;34m(\u001b[0m\u001b[0minput\u001b[0m\u001b[0;34m(\u001b[0m\u001b[0;34m)\u001b[0m\u001b[0;34m)\u001b[0m\u001b[0;34m\u001b[0m\u001b[0;34m\u001b[0m\u001b[0m\n\u001b[1;32m     13\u001b[0m \u001b[0mkolvo\u001b[0m \u001b[0;34m=\u001b[0m \u001b[0mint\u001b[0m\u001b[0;34m(\u001b[0m\u001b[0minput\u001b[0m\u001b[0;34m(\u001b[0m\u001b[0;34m)\u001b[0m\u001b[0;34m)\u001b[0m\u001b[0;34m\u001b[0m\u001b[0;34m\u001b[0m\u001b[0m\n\u001b[0;32m---> 14\u001b[0;31m \u001b[0mpodxodzt\u001b[0m \u001b[0;34m=\u001b[0m \u001b[0msum\u001b[0m\u001b[0;34m(\u001b[0m\u001b[0msum\u001b[0m\u001b[0;34m(\u001b[0m\u001b[0mfilter\u001b[0m\u001b[0;34m(\u001b[0m\u001b[0;32mlambda\u001b[0m \u001b[0mx\u001b[0m\u001b[0;34m:\u001b[0m \u001b[0mx\u001b[0m \u001b[0;34m>\u001b[0m \u001b[0mmimi\u001b[0m \u001b[0;34m,\u001b[0m \u001b[0mmap\u001b[0m\u001b[0;34m(\u001b[0m\u001b[0mint\u001b[0m\u001b[0;34m,\u001b[0m \u001b[0minput\u001b[0m\u001b[0;34m(\u001b[0m\u001b[0;34m)\u001b[0m\u001b[0;34m.\u001b[0m\u001b[0msplit\u001b[0m\u001b[0;34m(\u001b[0m\u001b[0;34m)\u001b[0m\u001b[0;34m)\u001b[0m\u001b[0;34m)\u001b[0m\u001b[0;34m)\u001b[0m \u001b[0;32mfor\u001b[0m \u001b[0m_\u001b[0m \u001b[0;32min\u001b[0m \u001b[0mrange\u001b[0m\u001b[0;34m(\u001b[0m\u001b[0mkolvo\u001b[0m\u001b[0;34m)\u001b[0m\u001b[0;34m)\u001b[0m\u001b[0;34m\u001b[0m\u001b[0;34m\u001b[0m\u001b[0m\n\u001b[0m\u001b[1;32m     15\u001b[0m \u001b[0mprint\u001b[0m\u001b[0;34m(\u001b[0m\u001b[0mpodxodzt\u001b[0m\u001b[0;34m)\u001b[0m\u001b[0;34m\u001b[0m\u001b[0;34m\u001b[0m\u001b[0m\n",
            "\u001b[0;32m/usr/local/lib/python3.10/dist-packages/ipykernel/kernelbase.py\u001b[0m in \u001b[0;36mraw_input\u001b[0;34m(self, prompt)\u001b[0m\n\u001b[1;32m    849\u001b[0m                 \u001b[0;34m\"raw_input was called, but this frontend does not support input requests.\"\u001b[0m\u001b[0;34m\u001b[0m\u001b[0;34m\u001b[0m\u001b[0m\n\u001b[1;32m    850\u001b[0m             )\n\u001b[0;32m--> 851\u001b[0;31m         return self._input_request(str(prompt),\n\u001b[0m\u001b[1;32m    852\u001b[0m             \u001b[0mself\u001b[0m\u001b[0;34m.\u001b[0m\u001b[0m_parent_ident\u001b[0m\u001b[0;34m,\u001b[0m\u001b[0;34m\u001b[0m\u001b[0;34m\u001b[0m\u001b[0m\n\u001b[1;32m    853\u001b[0m             \u001b[0mself\u001b[0m\u001b[0;34m.\u001b[0m\u001b[0m_parent_header\u001b[0m\u001b[0;34m,\u001b[0m\u001b[0;34m\u001b[0m\u001b[0;34m\u001b[0m\u001b[0m\n",
            "\u001b[0;32m/usr/local/lib/python3.10/dist-packages/ipykernel/kernelbase.py\u001b[0m in \u001b[0;36m_input_request\u001b[0;34m(self, prompt, ident, parent, password)\u001b[0m\n\u001b[1;32m    893\u001b[0m             \u001b[0;32mexcept\u001b[0m \u001b[0mKeyboardInterrupt\u001b[0m\u001b[0;34m:\u001b[0m\u001b[0;34m\u001b[0m\u001b[0;34m\u001b[0m\u001b[0m\n\u001b[1;32m    894\u001b[0m                 \u001b[0;31m# re-raise KeyboardInterrupt, to truncate traceback\u001b[0m\u001b[0;34m\u001b[0m\u001b[0;34m\u001b[0m\u001b[0m\n\u001b[0;32m--> 895\u001b[0;31m                 \u001b[0;32mraise\u001b[0m \u001b[0mKeyboardInterrupt\u001b[0m\u001b[0;34m(\u001b[0m\u001b[0;34m\"Interrupted by user\"\u001b[0m\u001b[0;34m)\u001b[0m \u001b[0;32mfrom\u001b[0m \u001b[0;32mNone\u001b[0m\u001b[0;34m\u001b[0m\u001b[0;34m\u001b[0m\u001b[0m\n\u001b[0m\u001b[1;32m    896\u001b[0m             \u001b[0;32mexcept\u001b[0m \u001b[0mException\u001b[0m \u001b[0;32mas\u001b[0m \u001b[0me\u001b[0m\u001b[0;34m:\u001b[0m\u001b[0;34m\u001b[0m\u001b[0;34m\u001b[0m\u001b[0m\n\u001b[1;32m    897\u001b[0m                 \u001b[0mself\u001b[0m\u001b[0;34m.\u001b[0m\u001b[0mlog\u001b[0m\u001b[0;34m.\u001b[0m\u001b[0mwarning\u001b[0m\u001b[0;34m(\u001b[0m\u001b[0;34m\"Invalid Message:\"\u001b[0m\u001b[0;34m,\u001b[0m \u001b[0mexc_info\u001b[0m\u001b[0;34m=\u001b[0m\u001b[0;32mTrue\u001b[0m\u001b[0;34m)\u001b[0m\u001b[0;34m\u001b[0m\u001b[0;34m\u001b[0m\u001b[0m\n",
            "\u001b[0;31mKeyboardInterrupt\u001b[0m: Interrupted by user"
          ]
        }
      ]
    },
    {
      "cell_type": "markdown",
      "source": [
        "**Задача 3**\n",
        "\n",
        "Дана строка, в которой названия продуктов разделены точкой с запятой и пробелом. Если продукт уже куплен, первым символом в названии идёт галочка V (в любом регистре). Если слово также начинается с этой буквы, то перед ней ставится экранирующий символ * .\n",
        "\n",
        "Вывести все названия продуктов, перед которыми не было галочки, каждое с новой строки. Экранирующие * нужно убрать.\n",
        "\n",
        "Используйте filter. Задачу можно решить в одну строку.\n",
        "\n",
        "**Ввод**\n",
        "\n",
        "```\n",
        "flour; *vinegar; Vbroccoli; leeks; green beans; Veggs\n",
        "```\n",
        "\n",
        "**Вывод**\n",
        "\n",
        "```\n",
        "flour\n",
        "vinegar\n",
        "leeks\n",
        "green beans\n",
        "```\n",
        "\n",
        "**Ввод**\n",
        "\n",
        "```\n",
        "vstarch; shallots; Vpotatoes; vcarrots; cheese; sour cream; *vegetable marrow\n",
        "```\n",
        "\n",
        "**Вывод**\n",
        "\n",
        "```\n",
        "shallots\n",
        "cheese\n",
        "sour cream\n",
        "vegetable marrow\n",
        "```"
      ],
      "metadata": {
        "id": "cznc8O8uub5W"
      }
    },
    {
      "cell_type": "code",
      "source": [],
      "metadata": {
        "id": "iUxGroYVvRkx"
      },
      "execution_count": null,
      "outputs": []
    },
    {
      "cell_type": "markdown",
      "source": [
        "**Задача 4**\n",
        "\n",
        "Напишите функцию **separator()**, разделяющую числа на две части: удовлетворяющие условию отбора, и все остальные.\n",
        "\n",
        "В функции **condition**, доступной вашему решению, находится условие для отбора значений.\n",
        "\n",
        "В функцию **separator()** передается строка целых чисел, записанных через пробел. Функция должна вернуть два списка чисел, расположенных в том же порядке, что и в исходной строке, – отобранных по условию и всех остальных.\n",
        "\n",
        "Используйте map и filter.\n",
        "\n",
        "**Ввод**\n",
        "\n",
        "```\n",
        "def condition(x):\n",
        "    return x > 0\n",
        "\n",
        "\n",
        "data = \"-2 3 4 -1 12\"\n",
        "print(*separator(data))\n",
        "```\n",
        "**Вывод**\n",
        "\n",
        "```\n",
        "[3, 4, 12] [-2, -1]\n",
        "```\n",
        "\n",
        "**Ввод**\n",
        "\n",
        "```\n",
        "def condition(x):\n",
        "    return abs(x) <= 3\n",
        "\n",
        "\n",
        "data = \"-2 3 2 -1 0\"\n",
        "print(*separator(data))\n",
        "```\n",
        "\n",
        "**Вывод**\n",
        "\n",
        "```\n",
        "[-2, 3, 2, -1, 0] []\n",
        "```\n"
      ],
      "metadata": {
        "id": "Y9qlHFZcvZd5"
      }
    },
    {
      "cell_type": "code",
      "source": [],
      "metadata": {
        "id": "RgRgWgKqwYat"
      },
      "execution_count": null,
      "outputs": []
    },
    {
      "cell_type": "markdown",
      "source": [
        "**Задача 5**\n",
        "\n",
        "Дополните все слова из строки слева звездочками до размера самого длинного из них. Вводится строка слов, записанных через пробел. Вывести слова в том же порядке, дополненные слева звездочками до самого длинного, каждое с новой строки. В задаче обязательно использовать map.\n",
        "\n",
        "**Ввод**\n",
        "\n",
        "```\n",
        "Expanding the space available for living\n",
        "```\n",
        "\n",
        "**Вывод**\n",
        "\n",
        "```\n",
        "Expanding\n",
        "******the\n",
        "****space\n",
        "available\n",
        "******for\n",
        "***living\n",
        "```\n",
        "\n"
      ],
      "metadata": {
        "id": "6s5DSsLVwiaQ"
      }
    },
    {
      "cell_type": "code",
      "source": [],
      "metadata": {
        "id": "g-e_iSuKxDNH"
      },
      "execution_count": null,
      "outputs": []
    }
  ]
}