{
  "nbformat": 4,
  "nbformat_minor": 0,
  "metadata": {
    "colab": {
      "provenance": [],
      "include_colab_link": true
    },
    "kernelspec": {
      "name": "python3",
      "display_name": "Python 3"
    },
    "language_info": {
      "name": "python"
    }
  },
  "cells": [
    {
      "cell_type": "markdown",
      "metadata": {
        "id": "view-in-github",
        "colab_type": "text"
      },
      "source": [
        "<a href=\"https://colab.research.google.com/github/WorkerStudy/Data-Analysis-with-Python/blob/main/Py_3_Python_Task.ipynb\" target=\"_parent\"><img src=\"https://colab.research.google.com/assets/colab-badge.svg\" alt=\"Open In Colab\"/></a>"
      ]
    },
    {
      "cell_type": "markdown",
      "source": [
        "## Задача 1\n",
        "\n",
        "days_per_year = 365\n",
        "\n",
        "hours_per_day = 24\n",
        "\n",
        "minutes_per_hour = 60\n",
        "\n",
        "Допишите программу так, чтобы она выводила количество минут в (не високосном) году, используя эти данные.\n",
        "\n",
        "**Формат вывода**\n",
        "Выводится одно число."
      ],
      "metadata": {
        "id": "zRmfAgDTnQfb"
      }
    },
    {
      "cell_type": "code",
      "source": [
        "days_per_year = 365\n",
        "\n",
        "hours_per_day = 24\n",
        "\n",
        "minutes_per_hour = 60\n",
        "\n",
        "print(days_per_year*hours_per_day*minutes_per_hour);"
      ],
      "metadata": {
        "id": "cP7BMWM7nnZ0",
        "outputId": "8fe6d3f6-79af-46f4-bf90-11726f5e6098",
        "colab": {
          "base_uri": "https://localhost:8080/"
        }
      },
      "execution_count": 4,
      "outputs": [
        {
          "output_type": "stream",
          "name": "stdout",
          "text": [
            "525600\n"
          ]
        }
      ]
    },
    {
      "cell_type": "markdown",
      "source": [
        "## Задача 2\n",
        "\n",
        "Напишите программу, которая считывает с клавиатуры одно за другим два целых числа и выводит их сумму."
      ],
      "metadata": {
        "id": "_RE4d6crno1B"
      }
    },
    {
      "cell_type": "markdown",
      "source": [
        "**Sample Input:**\n",
        "\n",
        "3\n",
        "\n",
        "5"
      ],
      "metadata": {
        "id": "uNyVyMhbn1of"
      }
    },
    {
      "cell_type": "markdown",
      "source": [
        "**Sample Output:**\n",
        "\n",
        "8"
      ],
      "metadata": {
        "id": "hwLgNk3_n7Gs"
      }
    },
    {
      "cell_type": "code",
      "source": [
        "print(int(input()) + int(input()))"
      ],
      "metadata": {
        "id": "gR7Feh2on9rg",
        "outputId": "4712087d-7424-4c39-de02-8cffed88ba04",
        "colab": {
          "base_uri": "https://localhost:8080/"
        }
      },
      "execution_count": 2,
      "outputs": [
        {
          "output_type": "stream",
          "name": "stdout",
          "text": [
            "3\n",
            "5\n",
            "8\n"
          ]
        }
      ]
    },
    {
      "cell_type": "markdown",
      "source": [
        "## Задача 3\n",
        "Напишите программу, которая считывает с клавиатуры одно дробное число и выводит обратное ему. Если при этом введённое с клавиатуры число меньше по абсолютной величине одной миллионной (в частности, если оно равно нулю), вывести вместо этого миллион."
      ],
      "metadata": {
        "id": "fojK_ghQn-OV"
      }
    },
    {
      "cell_type": "markdown",
      "source": [
        "**Sample Input:**\n",
        "\n",
        "0.5"
      ],
      "metadata": {
        "id": "Vhndwoc7oKfN"
      }
    },
    {
      "cell_type": "markdown",
      "source": [
        "**Sample Output:**\n",
        "\n",
        "2.0"
      ],
      "metadata": {
        "id": "-W0M-69mp4nn"
      }
    },
    {
      "cell_type": "code",
      "source": [
        "number = float(input())\n",
        "\n",
        "if number == 0 or number == 0.000001:\n",
        "  print(\"1000000\")\n",
        "else:\n",
        "  print(1 / number)"
      ],
      "metadata": {
        "id": "ZumSkUJ_oEzG",
        "outputId": "0711d809-c092-44b1-85ee-39379f021648",
        "colab": {
          "base_uri": "https://localhost:8080/"
        }
      },
      "execution_count": 16,
      "outputs": [
        {
          "output_type": "stream",
          "name": "stdout",
          "text": [
            "0.3\n",
            "3.3333333333333335\n"
          ]
        }
      ]
    },
    {
      "cell_type": "markdown",
      "source": [
        "## Задача 4\n",
        "\n",
        "Напишите программу, которая считывает с клавиатуры строку и выводит фразу:\n",
        "\n",
        "«Слово [введённая строка] имеет длину [длина введённой строки]»."
      ],
      "metadata": {
        "id": "kOQM8McWjfal"
      }
    },
    {
      "cell_type": "markdown",
      "source": [
        "**Sample Input:**\n",
        "\n",
        "собака"
      ],
      "metadata": {
        "id": "yFw97qVoekbl"
      }
    },
    {
      "cell_type": "markdown",
      "source": [
        "**Sample Output:**\n",
        "\n",
        "Слово собака имеет длину 6"
      ],
      "metadata": {
        "id": "60PwKWscerRZ"
      }
    },
    {
      "cell_type": "code",
      "source": [
        "text = input()\n",
        "print(\"Слово\", text , \"имеет длину\",  len(text))"
      ],
      "metadata": {
        "id": "0jPWNJMNXs3Z",
        "outputId": "eff9adeb-64fe-454d-d12b-998bbad71fa6",
        "colab": {
          "base_uri": "https://localhost:8080/"
        }
      },
      "execution_count": 5,
      "outputs": [
        {
          "output_type": "stream",
          "name": "stdout",
          "text": [
            "Собака\n",
            "Слово Собака имеет длину 6\n"
          ]
        }
      ]
    },
    {
      "cell_type": "markdown",
      "source": [
        "## Задача 5\n",
        "\n",
        "Боря, Вова и Дима спорят, кто из них выше и в каком порядке они должны стоять в шеренге на уроке физкультуры. Напишите программу, которая упорядочивает рост мальчиков по невозрастанию. Использовать множественное присваивание.\n",
        "\n",
        "**Формат ввода**\n",
        "Три строки, на каждой – рост каждого мальчика.\n",
        "\n",
        "**Формат вывода**\n",
        "Три строки, на первой рост самого высокого мальчика, на третьей – самого низкого."
      ],
      "metadata": {
        "id": "HGbEzaM6kcOV"
      }
    },
    {
      "cell_type": "markdown",
      "source": [
        "**Sample Input:**\n",
        "\n",
        "110\n",
        "\n",
        "130\n",
        "\n",
        "120"
      ],
      "metadata": {
        "id": "yVnrKHtBfLe0"
      }
    },
    {
      "cell_type": "markdown",
      "source": [
        "**Sample Output:**\n",
        "\n",
        "130\n",
        "\n",
        "120\n",
        "\n",
        "110"
      ],
      "metadata": {
        "id": "-uheyryMfOUP"
      }
    },
    {
      "cell_type": "code",
      "source": [
        "m1 = int(input())\n",
        "m2 = int(input())\n",
        "m3 = int(input())\n",
        "\n",
        "if m1 < m2 :\n",
        "  m1, m2 = m2, m1\n",
        "\n",
        "if m2 < m3 :\n",
        "  m2, m3 = m3, m2\n",
        "\n",
        "if m1 < m2 :\n",
        "  m1, m2 = m2, m1\n",
        "\n",
        "print(m1,m2, m3, sep=\"\\n\")"
      ],
      "metadata": {
        "id": "DRLDwoFpYQ2R",
        "outputId": "2aa89230-1a6c-4e79-c241-19a175acca5f",
        "colab": {
          "base_uri": "https://localhost:8080/"
        }
      },
      "execution_count": 11,
      "outputs": [
        {
          "output_type": "stream",
          "name": "stdout",
          "text": [
            "1\n",
            "2\n",
            "3\n",
            "3\n",
            "2\n",
            "1\n"
          ]
        }
      ]
    },
    {
      "cell_type": "markdown",
      "source": [
        "## Задача 6\n",
        "\n",
        "Напишите программу, которая считывает с клавиатуры одно целое число и выводит «чётное» или «нечётное» в зависимости от того, является ли число чётным или нечётным.\n",
        "\n",
        "Подсказка: вспомните об операциях // и %."
      ],
      "metadata": {
        "id": "ZOV60EmCfegr"
      }
    },
    {
      "cell_type": "code",
      "source": [
        "num = int(input())\n",
        "\n",
        "if num%2 == 0:\n",
        "    print(\"чётное\")\n",
        "else:\n",
        "    print(\"нечётное\")"
      ],
      "metadata": {
        "id": "DPtZrEEEjyH2",
        "outputId": "a7553704-ab47-48aa-c125-969c0b812927",
        "colab": {
          "base_uri": "https://localhost:8080/"
        }
      },
      "execution_count": 19,
      "outputs": [
        {
          "output_type": "stream",
          "name": "stdout",
          "text": [
            "12\n",
            "чётное\n"
          ]
        }
      ]
    },
    {
      "cell_type": "markdown",
      "source": [
        "## Задача 7\n",
        "\n",
        "Вася испугался, что Петя подсмотрит все его пароли в записной книжке, и решил их зашифровать. Для этого он берет изначальный пароль – трехзначное число – и по нему строит новое число по следующим правилам:\n",
        "\n",
        "Находится сумма цифр, стоящих в двух старших разрядах (сотни и десятки)\n",
        "\n",
        "Находится сумма цифр, стоящих в двух младших разрядах (десятки и единицы)\n",
        "\n",
        "Эти две суммы, записанные друг за другом, в порядке не возрастания, формируют новое число.\n",
        "\n",
        "Например, было введено число 167. Строим сумму старших разрядов – 1 + 6 = 7, строим сумму младших разрядов – 6 + 7 = 13. Полученные две суммы 7 и 13 записываем друг за другом в порядке не возрастания, те 137. Искомое число – 137.\n",
        "\n",
        "**Формат ввода**\n",
        "\n",
        "Строка, содержащая трёхзначное число.\n",
        "\n",
        "**Формат вывода**\n",
        "\n",
        "Преобразованное число."
      ],
      "metadata": {
        "id": "g1zg4lEufzJv"
      }
    },
    {
      "cell_type": "markdown",
      "source": [
        "**Sample Input:**\n",
        "\n",
        "167"
      ],
      "metadata": {
        "id": "ZohUuwrrgTTz"
      }
    },
    {
      "cell_type": "markdown",
      "source": [
        "**Sample Output:**\n",
        "\n",
        "137"
      ],
      "metadata": {
        "id": "E3Of0lIBgTT0"
      }
    },
    {
      "cell_type": "markdown",
      "source": [
        "**Sample Input:**\n",
        "\n",
        "345"
      ],
      "metadata": {
        "id": "mmjd1cNZgTe_"
      }
    },
    {
      "cell_type": "markdown",
      "source": [
        "**Sample Output:**\n",
        "\n",
        "97"
      ],
      "metadata": {
        "id": "YMqdgFHfgTfA"
      }
    },
    {
      "cell_type": "markdown",
      "source": [
        "**Sample Input:**\n",
        "\n",
        "678"
      ],
      "metadata": {
        "id": "86lIS96tgTox"
      }
    },
    {
      "cell_type": "markdown",
      "source": [
        "**Sample Output:**\n",
        "\n",
        "1513"
      ],
      "metadata": {
        "id": "lfwlCcYxgToy"
      }
    },
    {
      "cell_type": "code",
      "source": [
        "passw = input()\n",
        "\n",
        "summ1= int(passw[2])+int(passw[1])\n",
        "summ2= int(passw[1])+int(passw[0])\n",
        "\n",
        "if summ1 >summ2:\n",
        "    print(summ1, summ2, sep=\"\")\n",
        "else:\n",
        "    print(summ2, summ1, sep=\"\")\n",
        "\n"
      ],
      "metadata": {
        "id": "ofZMCYxkkXgB",
        "outputId": "2ce57644-93dc-480e-cf87-992a8edc677e",
        "colab": {
          "base_uri": "https://localhost:8080/"
        }
      },
      "execution_count": 24,
      "outputs": [
        {
          "output_type": "stream",
          "name": "stdout",
          "text": [
            "345\n",
            "97\n"
          ]
        }
      ]
    }
  ]
}