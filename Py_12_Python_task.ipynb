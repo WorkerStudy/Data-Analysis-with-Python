{
  "nbformat": 4,
  "nbformat_minor": 0,
  "metadata": {
    "colab": {
      "provenance": [],
      "include_colab_link": true
    },
    "kernelspec": {
      "name": "python3",
      "display_name": "Python 3"
    },
    "language_info": {
      "name": "python"
    }
  },
  "cells": [
    {
      "cell_type": "markdown",
      "metadata": {
        "id": "view-in-github",
        "colab_type": "text"
      },
      "source": [
        "<a href=\"https://colab.research.google.com/github/WorkerStudy/Data-Analysis-with-Python/blob/main/Py_12_Python_task.ipynb\" target=\"_parent\"><img src=\"https://colab.research.google.com/assets/colab-badge.svg\" alt=\"Open In Colab\"/></a>"
      ]
    },
    {
      "cell_type": "markdown",
      "source": [
        "**Задача 1**\n",
        "\n",
        "Напишите функцию **from_string_to_list(string, container)**, которая принимает два аргумента: строку string, состоящую из целых чисел, написанных через пробел, и список container. Функция должна извлечь из строки числа и добавить их в конец списка.\n",
        "\n",
        "**Ввод**\n",
        "```python\n",
        "a = [1, 2, 3]\n",
        "from_string_to_list(\"1 3 99 52\", a)\n",
        "print(*a)\n",
        "```\n",
        "\n",
        "**Вывод**\n",
        "\n",
        "`1 2 3 1 3 99 52`\n"
      ],
      "metadata": {
        "id": "Ez9bm-5eSZ7w"
      }
    },
    {
      "cell_type": "code",
      "execution_count": null,
      "metadata": {
        "id": "tEiGxNMgKYso",
        "outputId": "9d55475b-af80-4328-d477-0e2ce3c9f260",
        "colab": {
          "base_uri": "https://localhost:8080/"
        }
      },
      "outputs": [
        {
          "output_type": "stream",
          "name": "stdout",
          "text": [
            "1 2 3 1 3 99 52\n"
          ]
        }
      ],
      "source": [
        "def from_string_to_list(line, container):\n",
        "    for value in line.split():\n",
        "      container.append(int(value))\n",
        "    return container\n",
        "\n",
        "a = [1, 2, 3]\n",
        "from_string_to_list(\"1 3 99 52\", a)\n",
        "print(*a)\n"
      ]
    },
    {
      "cell_type": "markdown",
      "source": [
        "**Задача 2**\n",
        "\n",
        "Напишите функцию **transpose(matrix)**, которая принимает матрицу $N \\times M$ (т.е. список из $N$ списков-строк по\n",
        "$M$ элементов каждый) и транспонирует её, т.е. превращает строки в столбцы и наоборот. $i$-ая строка при этом превращается в $i$-й столбец.\n",
        "\n",
        "**Ввод 1**\n",
        "\n",
        "\n",
        "```python\n",
        "matrix = [[1]]\n",
        "transpose(matrix)\n",
        "for line in matrix:\n",
        "    print(*line)\n",
        "```\n",
        "\n",
        "**Вывод 1**\n",
        "\n",
        "```\n",
        "1\n",
        "```\n",
        "\n",
        "**Ввод 2**\n",
        "\n",
        "```\n",
        "matrix = [[1, 2], [3, 4]]\n",
        "transpose(matrix)\n",
        "for line in matrix:\n",
        "    print(*line)\n",
        "```\n",
        "\n",
        "**Вывод 2**\n",
        "\n",
        "```\n",
        "1 3\n",
        "2 4\n",
        "```"
      ],
      "metadata": {
        "id": "lvrK0cwgXGxa"
      }
    },
    {
      "cell_type": "code",
      "source": [
        "def transpose(mat):\n",
        "    col = len(mat)\n",
        "    row = len(mat[0])\n",
        "    transMatrix=[]\n",
        "    for indRow in range(row):\n",
        "        listRow=[]\n",
        "        for indCol in range(col):\n",
        "            listRow=listRow+[mat[indCol][indRow]]\n",
        "        transMatrix+=[listRow]\n",
        "    return transMatrix\n",
        "\n",
        "\n",
        "matrix = [[1, 2], [3, 4]]\n",
        "matrix=transpose(matrix)\n",
        "for line in matrix:\n",
        "    print(*line)"
      ],
      "metadata": {
        "id": "P_UmMPQGaY8K",
        "outputId": "2daa1a4f-862a-436a-bcaa-ef7487e18410",
        "colab": {
          "base_uri": "https://localhost:8080/"
        }
      },
      "execution_count": null,
      "outputs": [
        {
          "output_type": "stream",
          "name": "stdout",
          "text": [
            "1 3\n",
            "2 4\n"
          ]
        }
      ]
    },
    {
      "cell_type": "markdown",
      "source": [
        "**Задача 3**\n",
        "\n",
        "Для каждой строки чисел задается свое правило для отбора. Оно такое:\n",
        "\n",
        "\n",
        "1.   первое число в строке показывает, чему должны быть кратны отобранные числа;\n",
        "2.   второе число в строке показывает, сколько в этом числе должно быть разрядов (столько же, сколько в этом втором числе).\n",
        "\n",
        "Напишите программу, которая из каждой введенной строки выберет числа по этому правилу.\n",
        "\n",
        "Используйте множественное присваивание, запаковку и распаковку значений.\n",
        "\n",
        "**Формат ввода**\n",
        "\n",
        "Вводится количество строк, затем строки чисел, записанных через запятую и пробел. В каждой строке не менее двух чисел.\n",
        "\n",
        "**Формат вывода**\n",
        "\n",
        "Из каждой строки без учета первых двух чисел выведите через пробел отобранные числа в исходном порядке.\n",
        "\n",
        "**Ввод**\n",
        "\n",
        "```python\n",
        "5\n",
        "15, 145, 30, 120, 345, 1005, 600\n",
        "48, 31, 48, 192, 96, 144\n",
        "4, 188, 114, 172, 61, 64, 224, 676\n",
        "194, 70\n",
        "7, 36, 42, 63, 134, 77\n",
        "```\n",
        "\n",
        "**Вывод**\n",
        "\n",
        "\n",
        "\n",
        "```python\n",
        "120 345 600\n",
        "48 96\n",
        "172 224 676\n",
        "\n",
        "42 63 77\n",
        "```\n",
        "\n"
      ],
      "metadata": {
        "id": "_8wxZeHMaZNU"
      }
    },
    {
      "cell_type": "code",
      "source": [
        "def inputStr():\n",
        "    numStr = int(input())\n",
        "    strList = list()\n",
        "    while numStr>0 :\n",
        "        strList.append(input())\n",
        "        numStr-=1\n",
        "    return strList\n",
        "\n",
        "\n",
        "def findNums(lineNumber):\n",
        "    num1,num2,*otherNums= lineNumber.split(\", \")\n",
        "    tmp=[]\n",
        "    for number in otherNums:\n",
        "        if int(number)%int(num1) == 0  and len(num2) == len(number):\n",
        "            tmp.append(number)\n",
        "    print(*tmp)\n",
        "\n",
        "\n",
        "\n",
        "numsList= inputStr()\n",
        "\n",
        "for lineNums in numsList:\n",
        "    findNums(lineNums)"
      ],
      "metadata": {
        "id": "VZFVQHCfJlfa",
        "outputId": "e4fbc0b0-7773-4f9d-c40b-9ece6c60c24f",
        "colab": {
          "base_uri": "https://localhost:8080/"
        }
      },
      "execution_count": 3,
      "outputs": [
        {
          "output_type": "stream",
          "name": "stdout",
          "text": [
            "2\n",
            "4, 188, 114, 172, 61, 64, 224, 676\n",
            "15, 145, 30, 120, 345, 1005, 600\n",
            "172 224 676\n",
            "120 345 600\n"
          ]
        }
      ]
    }
  ]
}